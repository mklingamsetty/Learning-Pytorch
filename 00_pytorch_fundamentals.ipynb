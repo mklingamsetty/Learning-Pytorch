{
 "cells": [
  {
   "cell_type": "markdown",
   "metadata": {},
   "source": [
    "## 00. PyTorch Fundamentals\n",
    "Video Link: https://www.youtube.com/watch?v=V_xro1bcAuA&ab_channel=freeCodeCamp.org\n",
    "\n",
    "Online Textbook: https://www.learnpytorch.io/00_pytorch_fundamentals/"
   ]
  },
  {
   "cell_type": "code",
   "execution_count": 22,
   "metadata": {},
   "outputs": [
    {
     "name": "stdout",
     "output_type": "stream",
     "text": [
      "2.5.1+cpu\n"
     ]
    }
   ],
   "source": [
    "''' \n",
    "Start by Importing necessary libraries\n",
    "'''\n",
    "import torch\n",
    "\n",
    "print(torch.__version__)"
   ]
  },
  {
   "cell_type": "markdown",
   "metadata": {},
   "source": [
    "#### Introduction to Tensors"
   ]
  },
  {
   "cell_type": "code",
   "execution_count": 23,
   "metadata": {},
   "outputs": [
    {
     "name": "stdout",
     "output_type": "stream",
     "text": [
      "What is inside scalar?  tensor([7])\n",
      "Number of Dimensions:  1\n",
      "What is inside scalar?  7\n"
     ]
    }
   ],
   "source": [
    "'''\n",
    "Creating a Tensor\n",
    "\n",
    "Tensors are a main building block to Machine Learning. \n",
    "Tensors are a way to represent multi-dimenstional data.\n",
    "\n",
    "Tensors are made through torch.tensor() function\n",
    "'''\n",
    "\n",
    "scalar = torch.tensor([7])\n",
    "print(\"What is inside scalar? \", scalar)\n",
    "print(\"Number of Dimensions: \", scalar.ndim)\n",
    "\n",
    "'''To get the item out of the tensor, we can use the .item() function (returns as an integer)'''\n",
    "print(\"What is inside scalar? \", scalar.item())\n"
   ]
  },
  {
   "cell_type": "markdown",
   "metadata": {},
   "source": [
    "##### Getting Information from Tensors\n",
    "1. tensor.dtype\n",
    "2. tensor.shape\n",
    "3. tensor.device"
   ]
  },
  {
   "cell_type": "code",
   "execution_count": 24,
   "metadata": {},
   "outputs": [
    {
     "name": "stdout",
     "output_type": "stream",
     "text": [
      "What is inside vector?  tensor([1, 2, 3, 4, 5])\n",
      "Number of Dimensions:  1\n",
      "What is the shape of the vector?  torch.Size([5])\n"
     ]
    }
   ],
   "source": [
    "''' Creating Vectors using Tensors '''\n",
    "\n",
    "vector = torch.tensor([1, 2, 3, 4, 5])\n",
    "print(\"What is inside vector? \", vector) # Returns the tensor\n",
    "print(\"Number of Dimensions: \", vector.ndim) # Returns the number of dimensions\n",
    "print(\"What is the shape of the vector? \", vector.shape) # Returns the shape of the tensor (How many elements are in the tensor)"
   ]
  },
  {
   "cell_type": "code",
   "execution_count": 25,
   "metadata": {},
   "outputs": [
    {
     "name": "stdout",
     "output_type": "stream",
     "text": [
      "What is inside MATRIX?  tensor([[1, 2, 3],\n",
      "        [4, 5, 6]])\n",
      "Number of Dimensions:  2\n",
      "What is the shape of the MATRIX?  torch.Size([2, 3])\n"
     ]
    }
   ],
   "source": [
    "''' Creating a Matrix using Tensors '''\n",
    "\n",
    "MATRIX = torch.tensor([[1, 2, 3], [4, 5, 6]])\n",
    "print(\"What is inside MATRIX? \", MATRIX) # Returns the tensor\n",
    "print(\"Number of Dimensions: \", MATRIX.ndim) # Returns the number of dimensions\n",
    "print(\"What is the shape of the MATRIX? \", MATRIX.shape) # Returns the shape of the tensor (How many elements are in the tensor)"
   ]
  },
  {
   "cell_type": "code",
   "execution_count": 26,
   "metadata": {},
   "outputs": [
    {
     "name": "stdout",
     "output_type": "stream",
     "text": [
      "What is inside TENSOR? \n",
      " tensor([[[ 1,  2,  3],\n",
      "         [ 4,  5,  6]],\n",
      "\n",
      "        [[ 7,  8,  9],\n",
      "         [10, 11, 12]],\n",
      "\n",
      "        [[13, 14, 15],\n",
      "         [16, 17, 18]]])\n",
      "Number of Dimensions:  3\n",
      "What is the shape of the TENSOR?  torch.Size([3, 2, 3])\n"
     ]
    }
   ],
   "source": [
    "''' Creating a 3D Tensor using Tensors '''\n",
    "\n",
    "TENSOR = torch.tensor([[[1, 2, 3], [4, 5, 6]], [[7, 8, 9], [10, 11, 12]], [[13, 14, 15], [16, 17, 18]]])\n",
    "print(\"What is inside TENSOR? \\n\", TENSOR) # Returns the tensor\n",
    "print(\"Number of Dimensions: \", TENSOR.ndim) # Returns the number of dimensions\n",
    "print(\"What is the shape of the TENSOR? \", TENSOR.shape) # Returns the shape of the tensor (How many elements are in the tensor)"
   ]
  },
  {
   "cell_type": "markdown",
   "metadata": {},
   "source": [
    "#### Random Tensors\n",
    "Why Random Tensors? \n",
    "Random Tensors are important because many Neural Networks learn is that they start with tensors full of random numbers and then adjust those random numbers to better represent the data\n",
    "\n",
    "`Start with random data -> Look at data -> update random numbers -> look at data -> update random numbers`"
   ]
  },
  {
   "cell_type": "code",
   "execution_count": 27,
   "metadata": {},
   "outputs": [
    {
     "name": "stdout",
     "output_type": "stream",
     "text": [
      "What is inside random_tensor? \n",
      " tensor([[[[0.8613, 0.1609, 0.2270, 0.7727, 0.8509],\n",
      "          [0.2461, 0.4029, 0.6856, 0.7043, 0.4835]],\n",
      "\n",
      "         [[0.7400, 0.6389, 0.5146, 0.0952, 0.7931],\n",
      "          [0.0103, 0.8628, 0.4244, 0.9632, 0.7699]],\n",
      "\n",
      "         [[0.1905, 0.1644, 0.9757, 0.0693, 0.0935],\n",
      "          [0.2626, 0.4067, 0.8806, 0.5400, 0.9739]],\n",
      "\n",
      "         [[0.6560, 0.7810, 0.6925, 0.8421, 0.0690],\n",
      "          [0.6880, 0.9591, 0.0070, 0.2969, 0.6161]]],\n",
      "\n",
      "\n",
      "        [[[0.5755, 0.1955, 0.6969, 0.3160, 0.5294],\n",
      "          [0.2973, 0.8762, 0.5860, 0.1260, 0.9205]],\n",
      "\n",
      "         [[0.5685, 0.4823, 0.3993, 0.9632, 0.5265],\n",
      "          [0.3003, 0.8604, 0.6014, 0.4213, 0.2965]],\n",
      "\n",
      "         [[0.2465, 0.4691, 0.2263, 0.0937, 0.8538],\n",
      "          [0.8341, 0.2004, 0.0797, 0.7967, 0.6890]],\n",
      "\n",
      "         [[0.3648, 0.0654, 0.1527, 0.9207, 0.7547],\n",
      "          [0.6047, 0.6672, 0.1111, 0.9606, 0.1143]]],\n",
      "\n",
      "\n",
      "        [[[0.9822, 0.4555, 0.1773, 0.4929, 0.4790],\n",
      "          [0.7762, 0.2832, 0.8839, 0.8087, 0.6598]],\n",
      "\n",
      "         [[0.8472, 0.0878, 0.0827, 0.1086, 0.9303],\n",
      "          [0.2847, 0.7434, 0.9463, 0.3351, 0.0811]],\n",
      "\n",
      "         [[0.7522, 0.4619, 0.2326, 0.7917, 0.1648],\n",
      "          [0.8436, 0.6394, 0.4812, 0.4596, 0.6686]],\n",
      "\n",
      "         [[0.5449, 0.4820, 0.2876, 0.2965, 0.4500],\n",
      "          [0.3498, 0.1041, 0.1375, 0.9950, 0.1642]]]])\n",
      "Number of Dimensions:  4\n"
     ]
    }
   ],
   "source": [
    "''' Creating a random tensor '''\n",
    "\n",
    "random_tensor = torch.rand(3, 4, 2, 5)\n",
    "''' \n",
    "The way torch.rand works is that each arguement is the number of groups of the argument after it.\n",
    "    So in this case, 3 is the number of groups of 4, \n",
    "    4 is the number of groups of 2, \n",
    "    and 2 is the number of groups of 5, 5 being the number of elements.\n",
    "'''\n",
    "print(\"What is inside random_tensor? \\n\", random_tensor) # Returns the tensor\n",
    "print(\"Number of Dimensions: \", random_tensor.ndim) # Returns the number of dimensions"
   ]
  },
  {
   "cell_type": "code",
   "execution_count": 28,
   "metadata": {},
   "outputs": [
    {
     "data": {
      "text/plain": [
       "(torch.Size([224, 224, 3]), 3)"
      ]
     },
     "execution_count": 28,
     "metadata": {},
     "output_type": "execute_result"
    }
   ],
   "source": [
    "''' \n",
    "Create a random tensor with a similar shape to an image tensor \n",
    "\n",
    "When we convert images into tensors, we usually have a shape of (height, width, color_channels(R, G, B))\n",
    "'''\n",
    "\n",
    "random_image_size_tensor = torch.rand(size=(224, 224, 3))\n",
    "random_image_size_tensor.shape, random_image_size_tensor.ndim"
   ]
  },
  {
   "cell_type": "markdown",
   "metadata": {},
   "source": [
    "#### Zeros and Ones Tensor"
   ]
  },
  {
   "cell_type": "code",
   "execution_count": 29,
   "metadata": {},
   "outputs": [
    {
     "name": "stdout",
     "output_type": "stream",
     "text": [
      "What is inside zeros? \n",
      " tensor([[0., 0., 0., 0.],\n",
      "        [0., 0., 0., 0.],\n",
      "        [0., 0., 0., 0.]])\n",
      "\n",
      "What is inside ones? \n",
      " tensor([[1., 1., 1., 1.],\n",
      "        [1., 1., 1., 1.],\n",
      "        [1., 1., 1., 1.]])\n"
     ]
    }
   ],
   "source": [
    "''' Create a tensor of all zeros '''\n",
    "zeros = torch.zeros(size=(3,4))\n",
    "print(\"What is inside zeros? \\n\", zeros) # Returns the tensor\n",
    "\n",
    "ones = torch.ones(size=(3,4))\n",
    "print(\"\\nWhat is inside ones? \\n\", ones) # Returns the tensor"
   ]
  },
  {
   "cell_type": "markdown",
   "metadata": {},
   "source": [
    "#### Creating a range of tensors and tensors-like"
   ]
  },
  {
   "cell_type": "code",
   "execution_count": 30,
   "metadata": {},
   "outputs": [
    {
     "data": {
      "text/plain": [
       "tensor([ 1,  2,  3,  4,  5,  6,  7,  8,  9, 10])"
      ]
     },
     "execution_count": 30,
     "metadata": {},
     "output_type": "execute_result"
    }
   ],
   "source": [
    "tensor_range = torch.arange(start=1, end=11, step=1)\n",
    "tensor_range"
   ]
  },
  {
   "cell_type": "code",
   "execution_count": 31,
   "metadata": {},
   "outputs": [
    {
     "data": {
      "text/plain": [
       "tensor([0, 0, 0, 0, 0, 0, 0, 0, 0, 0])"
      ]
     },
     "execution_count": 31,
     "metadata": {},
     "output_type": "execute_result"
    }
   ],
   "source": [
    "tensor_like =torch.zeros_like(tensor_range)\n",
    "tensor_like"
   ]
  },
  {
   "cell_type": "markdown",
   "metadata": {},
   "source": [
    "#### Tensor Datatypes"
   ]
  },
  {
   "cell_type": "code",
   "execution_count": 32,
   "metadata": {},
   "outputs": [
    {
     "data": {
      "text/plain": [
       "tensor([1., 2., 3.])"
      ]
     },
     "execution_count": 32,
     "metadata": {},
     "output_type": "execute_result"
    }
   ],
   "source": [
    "float_32_tensor = torch.tensor([1.0, 2.0, 3.0], \n",
    "                               dtype=None, # What datatype is the tensor \n",
    "                               device=None, # What device is the tensor on\n",
    "                               requires_grad=False # Do we need to keep track of the data's gradient?\n",
    "                               )\n",
    "float_32_tensor"
   ]
  },
  {
   "cell_type": "code",
   "execution_count": 33,
   "metadata": {},
   "outputs": [
    {
     "data": {
      "text/plain": [
       "(tensor([1., 2., 3.], dtype=torch.float16),)"
      ]
     },
     "execution_count": 33,
     "metadata": {},
     "output_type": "execute_result"
    }
   ],
   "source": [
    "float_16_tensor = float_32_tensor.type(dtype=torch.float16),\n",
    "float_16_tensor"
   ]
  },
  {
   "cell_type": "markdown",
   "metadata": {},
   "source": [
    "#### Manipulating Tensors (Tensor Operations)\n",
    "Tensor Operations include:\n",
    "\n",
    "-> Addition\n",
    "\n",
    "-> Subtraction\n",
    "\n",
    "-> Multiplication (element-wise)\n",
    "\n",
    "-> Division\n",
    "\n",
    "-> Matrix Multiplication"
   ]
  },
  {
   "cell_type": "code",
   "execution_count": 34,
   "metadata": {},
   "outputs": [
    {
     "name": "stdout",
     "output_type": "stream",
     "text": [
      "tensor([11, 12, 13])\n",
      "tensor([-9, -8, -7])\n",
      "tensor([10, 20, 30])\n",
      "tensor([0.1000, 0.2000, 0.3000])\n",
      "tensor([1, 4, 9])\n",
      "Dot Product\n",
      "tensor(32)\n",
      "\n",
      "Matrix Multiplication\n",
      "\n",
      "tensor([[ 58,  64],\n",
      "        [139, 154]])\n"
     ]
    }
   ],
   "source": [
    "tensor = torch.tensor([1, 2, 3])\n",
    "print(tensor + 10)\n",
    "print(tensor - 10)\n",
    "print(tensor * 10)\n",
    "print(tensor / 10)\n",
    "print(tensor ** 2)\n",
    "    \n",
    "''' Dot Product '''\n",
    "print(\"Dot Product\")\n",
    "tensor1 = torch.tensor([1, 2, 3])\n",
    "tensor2 = torch.tensor([4, 5, 6])\n",
    "\n",
    "print(torch.dot(tensor1, tensor2))\n",
    "\n",
    "''' Matrix Multiplication '''\n",
    "print(\"\\nMatrix Multiplication\\n\")\n",
    "matrix1 = torch.tensor([[1, 2, 3], [4, 5, 6]])\n",
    "matrix2 = torch.tensor([[7, 8], [9, 10], [11, 12]])\n",
    "\n",
    "print(torch.matmul(matrix1, matrix2))"
   ]
  },
  {
   "cell_type": "markdown",
   "metadata": {},
   "source": [
    "#### Reshaping, Stacking, Squeezing, and Unsqueezing Tensors\n",
    "\n",
    "* Reshaping - reshapes an input tensor to a defined shape\n",
    "* View - Return a view of of an input tensor of certain shape but keep the same memory as the original tensor\n",
    "* Stacking - combine multiple tensors on top of eachother (vstack) or side by side (hstack)\n",
    "* Squeeze - removes all '1' dimensions from a tensor\n",
    "* Unsqueeze - adds a '1' dimension to a target tensor\n",
    "* Permute - Return a view of the input with dimensions permuted (swapped) in a certain way"
   ]
  },
  {
   "cell_type": "code",
   "execution_count": 35,
   "metadata": {},
   "outputs": [
    {
     "data": {
      "text/plain": [
       "(tensor([ 1,  2,  3,  4,  5,  6,  7,  8,  9, 10, 11, 12, 13, 14, 15]),\n",
       " torch.Size([15]))"
      ]
     },
     "execution_count": 35,
     "metadata": {},
     "output_type": "execute_result"
    }
   ],
   "source": [
    "x = torch.arange(1, 16)\n",
    "x, x.shape"
   ]
  },
  {
   "cell_type": "code",
   "execution_count": 36,
   "metadata": {},
   "outputs": [
    {
     "data": {
      "text/plain": [
       "(tensor([[ 1,  2,  3],\n",
       "         [ 4,  5,  6],\n",
       "         [ 7,  8,  9],\n",
       "         [10, 11, 12],\n",
       "         [13, 14, 15]]),\n",
       " torch.Size([5, 3]))"
      ]
     },
     "execution_count": 36,
     "metadata": {},
     "output_type": "execute_result"
    }
   ],
   "source": [
    "''' Add an extra dimension to the tensor '''\n",
    "\n",
    "x_reshaped = x.reshape(5, 3) # 5 x 3 = 15 (The number of elements in the tensor)\n",
    "x_reshaped, x_reshaped.shape"
   ]
  },
  {
   "cell_type": "code",
   "execution_count": 37,
   "metadata": {},
   "outputs": [
    {
     "data": {
      "text/plain": [
       "(tensor([[ 1,  2,  3],\n",
       "         [ 4,  5,  6],\n",
       "         [ 7,  8,  9],\n",
       "         [10, 11, 12],\n",
       "         [13, 14, 15]]),\n",
       " torch.Size([5, 3]))"
      ]
     },
     "execution_count": 37,
     "metadata": {},
     "output_type": "execute_result"
    }
   ],
   "source": [
    "''' Change the view '''\n",
    "z = x.view(5, 3)\n",
    "z, z.shape"
   ]
  },
  {
   "cell_type": "code",
   "execution_count": 38,
   "metadata": {},
   "outputs": [
    {
     "data": {
      "text/plain": [
       "(tensor([[ 1,  2,  3],\n",
       "         [ 1,  5,  6],\n",
       "         [ 1,  8,  9],\n",
       "         [ 1, 11, 12],\n",
       "         [ 1, 14, 15]]),\n",
       " tensor([ 1,  2,  3,  1,  5,  6,  1,  8,  9,  1, 11, 12,  1, 14, 15]))"
      ]
     },
     "execution_count": 38,
     "metadata": {},
     "output_type": "execute_result"
    }
   ],
   "source": [
    "''' Changing the view changes the original tensor '''\n",
    "z[:, 0] = 1 # All the rows in the first column will be 0\n",
    "''' Notice how the first column of the original tensor has changed '''\n",
    "z, x"
   ]
  },
  {
   "cell_type": "code",
   "execution_count": 39,
   "metadata": {},
   "outputs": [
    {
     "name": "stdout",
     "output_type": "stream",
     "text": [
      "tensor([[ 1,  2,  3,  1,  5,  6,  1,  8,  9,  1, 11, 12,  1, 14, 15],\n",
      "        [ 1,  2,  3,  1,  5,  6,  1,  8,  9,  1, 11, 12,  1, 14, 15],\n",
      "        [ 1,  2,  3,  1,  5,  6,  1,  8,  9,  1, 11, 12,  1, 14, 15],\n",
      "        [ 1,  2,  3,  1,  5,  6,  1,  8,  9,  1, 11, 12,  1, 14, 15],\n",
      "        [ 1,  2,  3,  1,  5,  6,  1,  8,  9,  1, 11, 12,  1, 14, 15]])\n",
      "\n",
      "\n",
      "\n",
      "\n",
      "tensor([ 1,  2,  3,  1,  5,  6,  1,  8,  9,  1, 11, 12,  1, 14, 15,  1,  2,  3,\n",
      "         1,  5,  6,  1,  8,  9,  1, 11, 12,  1, 14, 15,  1,  2,  3,  1,  5,  6,\n",
      "         1,  8,  9,  1, 11, 12,  1, 14, 15,  1,  2,  3,  1,  5,  6,  1,  8,  9,\n",
      "         1, 11, 12,  1, 14, 15,  1,  2,  3,  1,  5,  6,  1,  8,  9,  1, 11, 12,\n",
      "         1, 14, 15])\n"
     ]
    }
   ],
   "source": [
    "''' Stack tensors on top of each other '''\n",
    "stacked = torch.stack([x, x, x, x, x])\n",
    "print(stacked)\n",
    "\n",
    "print('\\n')\n",
    "print('\\n')\n",
    "\n",
    "''' Stack tensors side by side '''\n",
    "stacked_side_by_side = torch.hstack([x, x, x, x, x])\n",
    "print(stacked_side_by_side)\n"
   ]
  },
  {
   "cell_type": "code",
   "execution_count": 40,
   "metadata": {},
   "outputs": [
    {
     "name": "stdout",
     "output_type": "stream",
     "text": [
      "tensor([ 1,  2,  3,  1,  5,  6,  1,  8,  9,  1, 11, 12,  1, 14, 15]) \n",
      "\n",
      "tensor([[ 1],\n",
      "        [ 2],\n",
      "        [ 3],\n",
      "        [ 1],\n",
      "        [ 5],\n",
      "        [ 6],\n",
      "        [ 1],\n",
      "        [ 8],\n",
      "        [ 9],\n",
      "        [ 1],\n",
      "        [11],\n",
      "        [12],\n",
      "        [ 1],\n",
      "        [14],\n",
      "        [15]]) \n",
      "\n"
     ]
    }
   ],
   "source": [
    "''' Lets see squeeze and unsqueeze in action '''\n",
    "print(x, \"\\n\")\n",
    "x_unsqueezed = x.unsqueeze(dim=1)\n",
    "\n",
    "print(x_unsqueezed, \"\\n\")"
   ]
  },
  {
   "cell_type": "code",
   "execution_count": 41,
   "metadata": {},
   "outputs": [
    {
     "name": "stdout",
     "output_type": "stream",
     "text": [
      "Previous Shape torch.Size([224, 315, 3])\n",
      "\n",
      "New Shape torch.Size([315, 3, 224])\n"
     ]
    }
   ],
   "source": [
    "''' Lets see permute in action '''\n",
    "x_original = torch.rand(size=(224, 315, 3)) # [height, width, color_channels]\n",
    "x_permuted = x_original.permute(1, 2 ,0) # shifts axis 2->0, 0->1, 1->2\n",
    "print(\"Previous Shape\", x_original.shape)\n",
    "print(\"\\nNew Shape\", x_permuted.shape)"
   ]
  },
  {
   "cell_type": "markdown",
   "metadata": {},
   "source": [
    "#### PyTorch and NumPy\n",
    "\n",
    "* `torch.from_numpy(ndarray)`"
   ]
  },
  {
   "cell_type": "code",
   "execution_count": 42,
   "metadata": {},
   "outputs": [
    {
     "data": {
      "text/plain": [
       "(array([1.5, 3. , 4.5, 6. , 7.5, 9. ]),\n",
       " tensor([1.5000, 3.0000, 4.5000, 6.0000, 7.5000, 9.0000], dtype=torch.float64))"
      ]
     },
     "execution_count": 42,
     "metadata": {},
     "output_type": "execute_result"
    }
   ],
   "source": [
    "import numpy as np\n",
    "\n",
    "array = np.arange(1.5, 10.5, 1.5)   \n",
    "tensor = torch.from_numpy(array)\n",
    "array, tensor"
   ]
  }
 ],
 "metadata": {
  "kernelspec": {
   "display_name": ".venv",
   "language": "python",
   "name": "python3"
  },
  "language_info": {
   "codemirror_mode": {
    "name": "ipython",
    "version": 3
   },
   "file_extension": ".py",
   "mimetype": "text/x-python",
   "name": "python",
   "nbconvert_exporter": "python",
   "pygments_lexer": "ipython3",
   "version": "3.10.6"
  }
 },
 "nbformat": 4,
 "nbformat_minor": 2
}
