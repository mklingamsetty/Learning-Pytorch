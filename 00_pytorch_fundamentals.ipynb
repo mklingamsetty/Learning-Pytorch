{
 "cells": [
  {
   "cell_type": "markdown",
   "metadata": {},
   "source": [
    "## 00. PyTorch Fundamentals\n",
    "Video Link: https://www.youtube.com/watch?v=V_xro1bcAuA&ab_channel=freeCodeCamp.org\n",
    "\n",
    "Online Textbook: https://www.learnpytorch.io/00_pytorch_fundamentals/"
   ]
  },
  {
   "cell_type": "code",
   "execution_count": 106,
   "metadata": {},
   "outputs": [
    {
     "name": "stdout",
     "output_type": "stream",
     "text": [
      "2.5.1+cpu\n"
     ]
    }
   ],
   "source": [
    "''' \n",
    "Start by Importing necessary libraries\n",
    "'''\n",
    "import torch\n",
    "\n",
    "print(torch.__version__)"
   ]
  },
  {
   "cell_type": "markdown",
   "metadata": {},
   "source": [
    "#### Introduction to Tensors"
   ]
  },
  {
   "cell_type": "code",
   "execution_count": 107,
   "metadata": {},
   "outputs": [
    {
     "name": "stdout",
     "output_type": "stream",
     "text": [
      "What is inside scalar?  tensor([7])\n",
      "Number of Dimensions:  1\n",
      "What is inside scalar?  7\n"
     ]
    }
   ],
   "source": [
    "'''\n",
    "Creating a Tensor\n",
    "\n",
    "Tensors are a main building block to Machine Learning. \n",
    "Tensors are a way to represent multi-dimenstional data.\n",
    "\n",
    "Tensors are made through torch.tensor() function\n",
    "'''\n",
    "\n",
    "scalar = torch.tensor([7])\n",
    "print(\"What is inside scalar? \", scalar)\n",
    "print(\"Number of Dimensions: \", scalar.ndim)\n",
    "\n",
    "'''To get the item out of the tensor, we can use the .item() function (returns as an integer)'''\n",
    "print(\"What is inside scalar? \", scalar.item())\n"
   ]
  },
  {
   "cell_type": "markdown",
   "metadata": {},
   "source": [
    "##### Getting Information from Tensors\n",
    "1. tensor.dtype\n",
    "2. tensor.shape\n",
    "3. tensor.device"
   ]
  },
  {
   "cell_type": "code",
   "execution_count": 108,
   "metadata": {},
   "outputs": [
    {
     "name": "stdout",
     "output_type": "stream",
     "text": [
      "What is inside vector?  tensor([1, 2, 3, 4, 5])\n",
      "Number of Dimensions:  1\n",
      "What is the shape of the vector?  torch.Size([5])\n"
     ]
    }
   ],
   "source": [
    "''' Creating Vectors using Tensors '''\n",
    "\n",
    "vector = torch.tensor([1, 2, 3, 4, 5])\n",
    "print(\"What is inside vector? \", vector) # Returns the tensor\n",
    "print(\"Number of Dimensions: \", vector.ndim) # Returns the number of dimensions\n",
    "print(\"What is the shape of the vector? \", vector.shape) # Returns the shape of the tensor (How many elements are in the tensor)"
   ]
  },
  {
   "cell_type": "code",
   "execution_count": 109,
   "metadata": {},
   "outputs": [
    {
     "name": "stdout",
     "output_type": "stream",
     "text": [
      "What is inside MATRIX?  tensor([[1, 2, 3],\n",
      "        [4, 5, 6]])\n",
      "Number of Dimensions:  2\n",
      "What is the shape of the MATRIX?  torch.Size([2, 3])\n"
     ]
    }
   ],
   "source": [
    "''' Creating a Matrix using Tensors '''\n",
    "\n",
    "MATRIX = torch.tensor([[1, 2, 3], [4, 5, 6]])\n",
    "print(\"What is inside MATRIX? \", MATRIX) # Returns the tensor\n",
    "print(\"Number of Dimensions: \", MATRIX.ndim) # Returns the number of dimensions\n",
    "print(\"What is the shape of the MATRIX? \", MATRIX.shape) # Returns the shape of the tensor (How many elements are in the tensor)"
   ]
  },
  {
   "cell_type": "code",
   "execution_count": 110,
   "metadata": {},
   "outputs": [
    {
     "name": "stdout",
     "output_type": "stream",
     "text": [
      "What is inside TENSOR? \n",
      " tensor([[[ 1,  2,  3],\n",
      "         [ 4,  5,  6]],\n",
      "\n",
      "        [[ 7,  8,  9],\n",
      "         [10, 11, 12]],\n",
      "\n",
      "        [[13, 14, 15],\n",
      "         [16, 17, 18]]])\n",
      "Number of Dimensions:  3\n",
      "What is the shape of the TENSOR?  torch.Size([3, 2, 3])\n"
     ]
    }
   ],
   "source": [
    "''' Creating a 3D Tensor using Tensors '''\n",
    "\n",
    "TENSOR = torch.tensor([[[1, 2, 3], [4, 5, 6]], [[7, 8, 9], [10, 11, 12]], [[13, 14, 15], [16, 17, 18]]])\n",
    "print(\"What is inside TENSOR? \\n\", TENSOR) # Returns the tensor\n",
    "print(\"Number of Dimensions: \", TENSOR.ndim) # Returns the number of dimensions\n",
    "print(\"What is the shape of the TENSOR? \", TENSOR.shape) # Returns the shape of the tensor (How many elements are in the tensor)"
   ]
  },
  {
   "cell_type": "markdown",
   "metadata": {},
   "source": [
    "#### Random Tensors\n",
    "Why Random Tensors? \n",
    "Random Tensors are important because many Neural Networks learn is that they start with tensors full of random numbers and then adjust those random numbers to better represent the data\n",
    "\n",
    "`Start with random data -> Look at data -> update random numbers -> look at data -> update random numbers`"
   ]
  },
  {
   "cell_type": "code",
   "execution_count": 111,
   "metadata": {},
   "outputs": [
    {
     "name": "stdout",
     "output_type": "stream",
     "text": [
      "What is inside random_tensor? \n",
      " tensor([[[[7.1823e-01, 6.1731e-02, 2.5045e-03, 6.6748e-01, 2.7867e-01],\n",
      "          [6.1169e-01, 1.1484e-01, 4.1876e-02, 4.1223e-01, 3.3680e-01]],\n",
      "\n",
      "         [[5.2762e-01, 9.6887e-01, 6.9743e-01, 3.2050e-01, 3.2888e-03],\n",
      "          [7.7220e-01, 5.2540e-01, 2.9575e-01, 3.1807e-01, 4.9293e-01]],\n",
      "\n",
      "         [[1.9142e-01, 6.9452e-01, 9.5509e-01, 2.6155e-01, 3.8981e-01],\n",
      "          [2.6808e-01, 7.9430e-01, 1.0556e-01, 5.9569e-01, 3.4803e-01]],\n",
      "\n",
      "         [[9.4292e-01, 4.7569e-01, 3.6424e-01, 9.2736e-02, 8.3078e-01],\n",
      "          [8.5595e-01, 2.2942e-03, 1.7065e-02, 4.7469e-04, 1.3434e-01]]],\n",
      "\n",
      "\n",
      "        [[[7.2815e-01, 6.8439e-01, 9.1870e-02, 9.4042e-01, 2.5716e-01],\n",
      "          [4.4481e-01, 1.7527e-01, 8.5595e-01, 9.0998e-02, 6.4955e-01]],\n",
      "\n",
      "         [[3.0313e-01, 4.2206e-01, 1.8265e-01, 3.3022e-01, 1.6898e-01],\n",
      "          [4.9372e-01, 1.2913e-01, 7.8752e-01, 7.6559e-01, 2.3218e-01]],\n",
      "\n",
      "         [[9.5001e-02, 4.5788e-01, 8.7540e-01, 1.4970e-01, 3.4602e-01],\n",
      "          [7.3777e-02, 8.6687e-01, 2.4631e-01, 9.8973e-01, 6.0428e-02]],\n",
      "\n",
      "         [[2.4301e-03, 4.7779e-02, 6.9033e-01, 2.8666e-01, 7.0802e-01],\n",
      "          [8.3563e-01, 9.1888e-01, 1.9746e-02, 8.7926e-01, 8.3129e-02]]],\n",
      "\n",
      "\n",
      "        [[[7.2193e-01, 8.8220e-01, 5.8821e-01, 6.3539e-01, 2.5866e-01],\n",
      "          [1.7763e-03, 1.7096e-01, 6.5081e-01, 9.8442e-01, 8.7723e-01]],\n",
      "\n",
      "         [[7.9347e-01, 5.9222e-01, 6.3558e-01, 1.9253e-01, 4.5722e-01],\n",
      "          [4.2144e-01, 9.2512e-01, 4.7136e-01, 9.6909e-01, 4.4673e-01]],\n",
      "\n",
      "         [[2.5285e-01, 5.3518e-02, 1.1896e-01, 7.7780e-01, 2.5712e-02],\n",
      "          [6.1652e-01, 9.6816e-01, 8.7718e-01, 9.3495e-01, 9.5672e-01]],\n",
      "\n",
      "         [[5.0648e-01, 4.3663e-01, 5.2329e-01, 2.9059e-01, 1.3823e-01],\n",
      "          [5.5557e-01, 4.6627e-01, 6.3067e-01, 2.6629e-01, 2.5341e-02]]]])\n",
      "Number of Dimensions:  4\n"
     ]
    }
   ],
   "source": [
    "''' Creating a random tensor '''\n",
    "\n",
    "random_tensor = torch.rand(3, 4, 2, 5)\n",
    "''' \n",
    "The way torch.rand works is that each arguement is the number of groups of the argument after it.\n",
    "    So in this case, 3 is the number of groups of 4, \n",
    "    4 is the number of groups of 2, \n",
    "    and 2 is the number of groups of 5, 5 being the number of elements.\n",
    "'''\n",
    "print(\"What is inside random_tensor? \\n\", random_tensor) # Returns the tensor\n",
    "print(\"Number of Dimensions: \", random_tensor.ndim) # Returns the number of dimensions"
   ]
  },
  {
   "cell_type": "code",
   "execution_count": 112,
   "metadata": {},
   "outputs": [
    {
     "data": {
      "text/plain": [
       "(torch.Size([224, 224, 3]), 3)"
      ]
     },
     "execution_count": 112,
     "metadata": {},
     "output_type": "execute_result"
    }
   ],
   "source": [
    "''' \n",
    "Create a random tensor with a similar shape to an image tensor \n",
    "\n",
    "When we convert images into tensors, we usually have a shape of (height, width, color_channels(R, G, B))\n",
    "'''\n",
    "\n",
    "random_image_size_tensor = torch.rand(size=(224, 224, 3))\n",
    "random_image_size_tensor.shape, random_image_size_tensor.ndim"
   ]
  },
  {
   "cell_type": "markdown",
   "metadata": {},
   "source": [
    "#### Zeros and Ones Tensor"
   ]
  },
  {
   "cell_type": "code",
   "execution_count": 113,
   "metadata": {},
   "outputs": [
    {
     "name": "stdout",
     "output_type": "stream",
     "text": [
      "What is inside zeros? \n",
      " tensor([[0., 0., 0., 0.],\n",
      "        [0., 0., 0., 0.],\n",
      "        [0., 0., 0., 0.]])\n",
      "\n",
      "What is inside ones? \n",
      " tensor([[1., 1., 1., 1.],\n",
      "        [1., 1., 1., 1.],\n",
      "        [1., 1., 1., 1.]])\n"
     ]
    }
   ],
   "source": [
    "''' Create a tensor of all zeros '''\n",
    "zeros = torch.zeros(size=(3,4))\n",
    "print(\"What is inside zeros? \\n\", zeros) # Returns the tensor\n",
    "\n",
    "ones = torch.ones(size=(3,4))\n",
    "print(\"\\nWhat is inside ones? \\n\", ones) # Returns the tensor"
   ]
  },
  {
   "cell_type": "markdown",
   "metadata": {},
   "source": [
    "#### Creating a range of tensors and tensors-like"
   ]
  },
  {
   "cell_type": "code",
   "execution_count": 114,
   "metadata": {},
   "outputs": [
    {
     "data": {
      "text/plain": [
       "tensor([ 1,  2,  3,  4,  5,  6,  7,  8,  9, 10])"
      ]
     },
     "execution_count": 114,
     "metadata": {},
     "output_type": "execute_result"
    }
   ],
   "source": [
    "tensor_range = torch.arange(start=1, end=11, step=1)\n",
    "tensor_range"
   ]
  },
  {
   "cell_type": "code",
   "execution_count": 115,
   "metadata": {},
   "outputs": [
    {
     "data": {
      "text/plain": [
       "tensor([0, 0, 0, 0, 0, 0, 0, 0, 0, 0])"
      ]
     },
     "execution_count": 115,
     "metadata": {},
     "output_type": "execute_result"
    }
   ],
   "source": [
    "tensor_like =torch.zeros_like(tensor_range)\n",
    "tensor_like"
   ]
  },
  {
   "cell_type": "markdown",
   "metadata": {},
   "source": [
    "#### Tensor Datatypes"
   ]
  },
  {
   "cell_type": "code",
   "execution_count": 116,
   "metadata": {},
   "outputs": [
    {
     "data": {
      "text/plain": [
       "tensor([1., 2., 3.])"
      ]
     },
     "execution_count": 116,
     "metadata": {},
     "output_type": "execute_result"
    }
   ],
   "source": [
    "float_32_tensor = torch.tensor([1.0, 2.0, 3.0], \n",
    "                               dtype=None, # What datatype is the tensor \n",
    "                               device=None, # What device is the tensor on\n",
    "                               requires_grad=False # Do we need to keep track of the data's gradient?\n",
    "                               )\n",
    "float_32_tensor"
   ]
  },
  {
   "cell_type": "code",
   "execution_count": 117,
   "metadata": {},
   "outputs": [
    {
     "data": {
      "text/plain": [
       "(tensor([1., 2., 3.], dtype=torch.float16),)"
      ]
     },
     "execution_count": 117,
     "metadata": {},
     "output_type": "execute_result"
    }
   ],
   "source": [
    "float_16_tensor = float_32_tensor.type(dtype=torch.float16),\n",
    "float_16_tensor"
   ]
  },
  {
   "cell_type": "markdown",
   "metadata": {},
   "source": [
    "#### Manipulating Tensors (Tensor Operations)\n",
    "Tensor Operations include:\n",
    "\n",
    "-> Addition\n",
    "\n",
    "-> Subtraction\n",
    "\n",
    "-> Multiplication (element-wise)\n",
    "\n",
    "-> Division\n",
    "\n",
    "-> Matrix Multiplication"
   ]
  },
  {
   "cell_type": "code",
   "execution_count": 118,
   "metadata": {},
   "outputs": [
    {
     "name": "stdout",
     "output_type": "stream",
     "text": [
      "tensor([11, 12, 13])\n",
      "tensor([-9, -8, -7])\n",
      "tensor([10, 20, 30])\n",
      "tensor([0.1000, 0.2000, 0.3000])\n",
      "tensor([1, 4, 9])\n",
      "Dot Product\n",
      "tensor(32)\n",
      "\n",
      "Matrix Multiplication\n",
      "\n",
      "tensor([[ 58,  64],\n",
      "        [139, 154]])\n"
     ]
    }
   ],
   "source": [
    "tensor = torch.tensor([1, 2, 3])\n",
    "print(tensor + 10)\n",
    "print(tensor - 10)\n",
    "print(tensor * 10)\n",
    "print(tensor / 10)\n",
    "print(tensor ** 2)\n",
    "    \n",
    "''' Dot Product '''\n",
    "print(\"Dot Product\")\n",
    "tensor1 = torch.tensor([1, 2, 3])\n",
    "tensor2 = torch.tensor([4, 5, 6])\n",
    "\n",
    "print(torch.dot(tensor1, tensor2))\n",
    "\n",
    "''' Matrix Multiplication '''\n",
    "print(\"\\nMatrix Multiplication\\n\")\n",
    "matrix1 = torch.tensor([[1, 2, 3], [4, 5, 6]])\n",
    "matrix2 = torch.tensor([[7, 8], [9, 10], [11, 12]])\n",
    "\n",
    "print(torch.matmul(matrix1, matrix2))"
   ]
  },
  {
   "cell_type": "markdown",
   "metadata": {},
   "source": [
    "#### Reshaping, Stacking, Squeezing, and Unsqueezing Tensors\n",
    "\n",
    "* Reshaping - reshapes an input tensor to a defined shape\n",
    "* View - Return a view of of an input tensor of certain shape but keep the same memory as the original tensor\n",
    "* Stacking - combine multiple tensors on top of eachother (vstack) or side by side (hstack)\n",
    "* Squeeze - removes all '1' dimensions from a tensor\n",
    "* Unsqueeze - adds a '1' dimension to a target tensor\n",
    "* Permute - Return a view of the input with dimensions permuted (swapped) in a certain way"
   ]
  },
  {
   "cell_type": "code",
   "execution_count": 119,
   "metadata": {},
   "outputs": [
    {
     "data": {
      "text/plain": [
       "(tensor([ 1,  2,  3,  4,  5,  6,  7,  8,  9, 10, 11, 12, 13, 14, 15]),\n",
       " torch.Size([15]))"
      ]
     },
     "execution_count": 119,
     "metadata": {},
     "output_type": "execute_result"
    }
   ],
   "source": [
    "x = torch.arange(1, 16)\n",
    "x, x.shape"
   ]
  },
  {
   "cell_type": "code",
   "execution_count": 120,
   "metadata": {},
   "outputs": [
    {
     "data": {
      "text/plain": [
       "(tensor([[ 1,  2,  3],\n",
       "         [ 4,  5,  6],\n",
       "         [ 7,  8,  9],\n",
       "         [10, 11, 12],\n",
       "         [13, 14, 15]]),\n",
       " torch.Size([5, 3]))"
      ]
     },
     "execution_count": 120,
     "metadata": {},
     "output_type": "execute_result"
    }
   ],
   "source": [
    "''' Add an extra dimension to the tensor '''\n",
    "\n",
    "x_reshaped = x.reshape(5, 3) # 5 x 3 = 15 (The number of elements in the tensor)\n",
    "x_reshaped, x_reshaped.shape"
   ]
  },
  {
   "cell_type": "code",
   "execution_count": 121,
   "metadata": {},
   "outputs": [
    {
     "data": {
      "text/plain": [
       "(tensor([[ 1,  2,  3],\n",
       "         [ 4,  5,  6],\n",
       "         [ 7,  8,  9],\n",
       "         [10, 11, 12],\n",
       "         [13, 14, 15]]),\n",
       " torch.Size([5, 3]))"
      ]
     },
     "execution_count": 121,
     "metadata": {},
     "output_type": "execute_result"
    }
   ],
   "source": [
    "''' Change the view '''\n",
    "z = x.view(5, 3)\n",
    "z, z.shape"
   ]
  },
  {
   "cell_type": "code",
   "execution_count": 122,
   "metadata": {},
   "outputs": [
    {
     "data": {
      "text/plain": [
       "(tensor([[ 1,  2,  3],\n",
       "         [ 1,  5,  6],\n",
       "         [ 1,  8,  9],\n",
       "         [ 1, 11, 12],\n",
       "         [ 1, 14, 15]]),\n",
       " tensor([ 1,  2,  3,  1,  5,  6,  1,  8,  9,  1, 11, 12,  1, 14, 15]))"
      ]
     },
     "execution_count": 122,
     "metadata": {},
     "output_type": "execute_result"
    }
   ],
   "source": [
    "''' Changing the view changes the original tensor '''\n",
    "z[:, 0] = 1 # All the rows in the first column will be 0\n",
    "''' Notice how the first column of the original tensor has changed '''\n",
    "z, x"
   ]
  },
  {
   "cell_type": "code",
   "execution_count": 123,
   "metadata": {},
   "outputs": [
    {
     "name": "stdout",
     "output_type": "stream",
     "text": [
      "tensor([[ 1,  2,  3,  1,  5,  6,  1,  8,  9,  1, 11, 12,  1, 14, 15],\n",
      "        [ 1,  2,  3,  1,  5,  6,  1,  8,  9,  1, 11, 12,  1, 14, 15],\n",
      "        [ 1,  2,  3,  1,  5,  6,  1,  8,  9,  1, 11, 12,  1, 14, 15],\n",
      "        [ 1,  2,  3,  1,  5,  6,  1,  8,  9,  1, 11, 12,  1, 14, 15],\n",
      "        [ 1,  2,  3,  1,  5,  6,  1,  8,  9,  1, 11, 12,  1, 14, 15]])\n",
      "\n",
      "\n",
      "\n",
      "\n",
      "tensor([ 1,  2,  3,  1,  5,  6,  1,  8,  9,  1, 11, 12,  1, 14, 15,  1,  2,  3,\n",
      "         1,  5,  6,  1,  8,  9,  1, 11, 12,  1, 14, 15,  1,  2,  3,  1,  5,  6,\n",
      "         1,  8,  9,  1, 11, 12,  1, 14, 15,  1,  2,  3,  1,  5,  6,  1,  8,  9,\n",
      "         1, 11, 12,  1, 14, 15,  1,  2,  3,  1,  5,  6,  1,  8,  9,  1, 11, 12,\n",
      "         1, 14, 15])\n"
     ]
    }
   ],
   "source": [
    "''' Stack tensors on top of each other '''\n",
    "stacked = torch.stack([x, x, x, x, x])\n",
    "print(stacked)\n",
    "\n",
    "print('\\n')\n",
    "print('\\n')\n",
    "\n",
    "''' Stack tensors side by side '''\n",
    "stacked_side_by_side = torch.hstack([x, x, x, x, x])\n",
    "print(stacked_side_by_side)\n"
   ]
  },
  {
   "cell_type": "code",
   "execution_count": 132,
   "metadata": {},
   "outputs": [
    {
     "name": "stdout",
     "output_type": "stream",
     "text": [
      "tensor([ 1,  2,  3,  1,  5,  6,  1,  8,  9,  1, 11, 12,  1, 14, 15]) \n",
      "\n",
      "tensor([[ 1],\n",
      "        [ 2],\n",
      "        [ 3],\n",
      "        [ 1],\n",
      "        [ 5],\n",
      "        [ 6],\n",
      "        [ 1],\n",
      "        [ 8],\n",
      "        [ 9],\n",
      "        [ 1],\n",
      "        [11],\n",
      "        [12],\n",
      "        [ 1],\n",
      "        [14],\n",
      "        [15]]) \n",
      "\n"
     ]
    }
   ],
   "source": [
    "''' Lets see squeeze and unsqueeze in action '''\n",
    "print(x, \"\\n\")\n",
    "x_unsqueezed = x.unsqueeze(dim=1)\n",
    "\n",
    "print(x_unsqueezed, \"\\n\")"
   ]
  }
 ],
 "metadata": {
  "kernelspec": {
   "display_name": ".venv",
   "language": "python",
   "name": "python3"
  },
  "language_info": {
   "codemirror_mode": {
    "name": "ipython",
    "version": 3
   },
   "file_extension": ".py",
   "mimetype": "text/x-python",
   "name": "python",
   "nbconvert_exporter": "python",
   "pygments_lexer": "ipython3",
   "version": "3.10.6"
  }
 },
 "nbformat": 4,
 "nbformat_minor": 2
}
