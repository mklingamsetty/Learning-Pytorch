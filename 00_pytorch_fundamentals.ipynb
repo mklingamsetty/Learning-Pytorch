{
 "cells": [
  {
   "cell_type": "markdown",
   "metadata": {},
   "source": [
    "## 00. PyTorch Fundamentals\n",
    "Video Link: https://www.youtube.com/watch?v=V_xro1bcAuA&ab_channel=freeCodeCamp.org\n",
    "\n",
    "Online Textbook: https://www.learnpytorch.io/00_pytorch_fundamentals/"
   ]
  },
  {
   "cell_type": "code",
   "execution_count": 2,
   "metadata": {},
   "outputs": [
    {
     "name": "stdout",
     "output_type": "stream",
     "text": [
      "2.5.1+cpu\n"
     ]
    }
   ],
   "source": [
    "''' \n",
    "Start by Importing necessary libraries\n",
    "'''\n",
    "\n",
    "import torch\n",
    "import pandas as pd\n",
    "import numpy as np\n",
    "import matplotlib.pyplot as plt\n",
    "\n",
    "print(torch.__version__)"
   ]
  },
  {
   "cell_type": "markdown",
   "metadata": {},
   "source": [
    "#### Introduction to Tensors"
   ]
  },
  {
   "cell_type": "code",
   "execution_count": 5,
   "metadata": {},
   "outputs": [
    {
     "name": "stdout",
     "output_type": "stream",
     "text": [
      "What is inside scalar?  tensor([7])\n",
      "Number of Dimensions:  1\n",
      "What is inside scalar?  7\n"
     ]
    }
   ],
   "source": [
    "'''\n",
    "Creating a Tensor\n",
    "\n",
    "Tensors are a main building block to Machine Learning. \n",
    "Tensors are a way to represent multi-dimenstional data.\n",
    "\n",
    "Tensors are made through torch.tensor() function\n",
    "'''\n",
    "\n",
    "scalar = torch.tensor([7])\n",
    "print(\"What is inside scalar? \", scalar)\n",
    "print(\"Number of Dimensions: \", scalar.ndim)\n",
    "\n",
    "'''To get the item out of the tensor, we can use the .item() function (returns as an integer)'''\n",
    "print(\"What is inside scalar? \", scalar.item())\n"
   ]
  },
  {
   "cell_type": "code",
   "execution_count": 11,
   "metadata": {},
   "outputs": [
    {
     "name": "stdout",
     "output_type": "stream",
     "text": [
      "What is inside vector?  tensor([1, 2, 3, 4, 5])\n",
      "Number of Dimensions:  1\n",
      "What is the shape of the vector?  torch.Size([5])\n"
     ]
    }
   ],
   "source": [
    "''' Creating Vectors using Tensors '''\n",
    "\n",
    "vector = torch.tensor([1, 2, 3, 4, 5])\n",
    "print(\"What is inside vector? \", vector) # Returns the tensor\n",
    "print(\"Number of Dimensions: \", vector.ndim) # Returns the number of dimensions\n",
    "print(\"What is the shape of the vector? \", vector.shape) # Returns the shape of the tensor (How many elements are in the tensor)"
   ]
  },
  {
   "cell_type": "code",
   "execution_count": 16,
   "metadata": {},
   "outputs": [
    {
     "name": "stdout",
     "output_type": "stream",
     "text": [
      "What is inside MATRIX?  tensor([[1, 2, 3],\n",
      "        [4, 5, 6],\n",
      "        [7, 8, 9]])\n",
      "Number of Dimensions:  2\n",
      "What is the shape of the MATRIX?  torch.Size([3, 3])\n"
     ]
    }
   ],
   "source": [
    "''' Creating a Matrix using Tensors '''\n",
    "\n",
    "MATRIX = torch.tensor([[1, 2, 3], [4, 5, 6]])\n",
    "print(\"What is inside MATRIX? \", MATRIX) # Returns the tensor\n",
    "print(\"Number of Dimensions: \", MATRIX.ndim) # Returns the number of dimensions\n",
    "print(\"What is the shape of the MATRIX? \", MATRIX.shape) # Returns the shape of the tensor (How many elements are in the tensor)"
   ]
  },
  {
   "cell_type": "code",
   "execution_count": 22,
   "metadata": {},
   "outputs": [
    {
     "name": "stdout",
     "output_type": "stream",
     "text": [
      "What is inside TENSOR? \n",
      " tensor([[[ 1,  2,  3],\n",
      "         [ 4,  5,  6]],\n",
      "\n",
      "        [[ 7,  8,  9],\n",
      "         [10, 11, 12]],\n",
      "\n",
      "        [[13, 14, 15],\n",
      "         [16, 17, 18]]])\n",
      "Number of Dimensions:  3\n",
      "What is the shape of the TENSOR?  torch.Size([3, 2, 3])\n",
      "tensor(6)\n"
     ]
    }
   ],
   "source": [
    "''' Creating a 3D Tensor using Tensors '''\n",
    "\n",
    "TENSOR = torch.tensor([[[1, 2, 3], [4, 5, 6]], [[7, 8, 9], [10, 11, 12]], [[13, 14, 15], [16, 17, 18]]])\n",
    "print(\"What is inside TENSOR? \\n\", TENSOR) # Returns the tensor\n",
    "print(\"Number of Dimensions: \", TENSOR.ndim) # Returns the number of dimensions\n",
    "print(\"What is the shape of the TENSOR? \", TENSOR.shape) # Returns the shape of the tensor (How many elements are in the tensor)"
   ]
  },
  {
   "cell_type": "markdown",
   "metadata": {},
   "source": [
    "#### Random Tensors\n",
    "Why Random Tensors? \n",
    "Random Tensors are important because many Neural Networks learn is that they start with tensors full of random numbers and then adjust those random numbers to better represent the data\n",
    "\n",
    "`Start with random data -> Look at data -> update random numbers -> look at data -> update random numbers`"
   ]
  },
  {
   "cell_type": "code",
   "execution_count": 29,
   "metadata": {},
   "outputs": [
    {
     "name": "stdout",
     "output_type": "stream",
     "text": [
      "What is inside random_tensor? \n",
      " tensor([[[[0.6835, 0.4848, 0.2471, 0.9906, 0.0326],\n",
      "          [0.6519, 0.4964, 0.8066, 0.0305, 0.4377]],\n",
      "\n",
      "         [[0.2447, 0.7272, 0.4018, 0.8579, 0.6073],\n",
      "          [0.1494, 0.2682, 0.9953, 0.0440, 0.6250]],\n",
      "\n",
      "         [[0.0180, 0.6019, 0.0125, 0.1896, 0.1829],\n",
      "          [0.8633, 0.6210, 0.0146, 0.3241, 0.2637]],\n",
      "\n",
      "         [[0.8002, 0.3385, 0.7874, 0.1664, 0.1861],\n",
      "          [0.7714, 0.4394, 0.7087, 0.7424, 0.7406]]],\n",
      "\n",
      "\n",
      "        [[[0.5573, 0.4174, 0.7651, 0.8846, 0.9314],\n",
      "          [0.7460, 0.7785, 0.6648, 0.3425, 0.7448]],\n",
      "\n",
      "         [[0.6435, 0.8127, 0.8156, 0.9480, 0.5174],\n",
      "          [0.3231, 0.2072, 0.1457, 0.3520, 0.8483]],\n",
      "\n",
      "         [[0.9192, 0.1440, 0.1936, 0.5818, 0.6253],\n",
      "          [0.4550, 0.8594, 0.8696, 0.0143, 0.9295]],\n",
      "\n",
      "         [[0.0498, 0.6416, 0.7203, 0.4712, 0.8587],\n",
      "          [0.8494, 0.0724, 0.5589, 0.9542, 0.3590]]],\n",
      "\n",
      "\n",
      "        [[[0.9322, 0.8085, 0.3665, 0.9481, 0.4668],\n",
      "          [0.1497, 0.8155, 0.4098, 0.8610, 0.5481]],\n",
      "\n",
      "         [[0.8538, 0.1115, 0.8117, 0.0151, 0.4810],\n",
      "          [0.1019, 0.2893, 0.1118, 0.6335, 0.4844]],\n",
      "\n",
      "         [[0.9026, 0.7378, 0.9931, 0.7311, 0.5640],\n",
      "          [0.8948, 0.0251, 0.2855, 0.0223, 0.7949]],\n",
      "\n",
      "         [[0.9846, 0.5200, 0.5948, 0.4936, 0.2398],\n",
      "          [0.6440, 0.9354, 0.2652, 0.8511, 0.7533]]]])\n",
      "Number of Dimensions:  4\n"
     ]
    }
   ],
   "source": [
    "''' Creating a random tensor '''\n",
    "\n",
    "random_tensor = torch.rand(3, 4, 2, 5)\n",
    "''' \n",
    "The way torch.rand works is that each arguement is the number of groups of the argument after it.\n",
    "    So in this case, 3 is the number of groups of 4, \n",
    "    4 is the number of groups of 2, \n",
    "    and 2 is the number of groups of 5, 5 being the number of elements.\n",
    "'''\n",
    "print(\"What is inside random_tensor? \\n\", random_tensor) # Returns the tensor\n",
    "print(\"Number of Dimensions: \", random_tensor.ndim) # Returns the number of dimensions"
   ]
  },
  {
   "cell_type": "code",
   "execution_count": 30,
   "metadata": {},
   "outputs": [
    {
     "data": {
      "text/plain": [
       "(torch.Size([224, 224, 3]), 3)"
      ]
     },
     "execution_count": 30,
     "metadata": {},
     "output_type": "execute_result"
    }
   ],
   "source": [
    "''' \n",
    "Create a random tensor with a similar shape to an image tensor \n",
    "\n",
    "When we convert images into tensors, we usually have a shape of (height, width, color_channels(R, G, B))\n",
    "'''\n",
    "\n",
    "random_image_size_tensor = torch.rand(size=(224, 224, 3))\n",
    "random_image_size_tensor.shape, random_image_size_tensor.ndim"
   ]
  },
  {
   "cell_type": "markdown",
   "metadata": {},
   "source": [
    "#### Zeros and Ones Tensor"
   ]
  },
  {
   "cell_type": "code",
   "execution_count": 33,
   "metadata": {},
   "outputs": [
    {
     "name": "stdout",
     "output_type": "stream",
     "text": [
      "What is inside zeros? \n",
      " tensor([[0., 0., 0., 0.],\n",
      "        [0., 0., 0., 0.],\n",
      "        [0., 0., 0., 0.]])\n",
      "\n",
      "What is inside ones? \n",
      " tensor([[1., 1., 1., 1.],\n",
      "        [1., 1., 1., 1.],\n",
      "        [1., 1., 1., 1.]])\n"
     ]
    }
   ],
   "source": [
    "''' Create a tensor of all zeros '''\n",
    "zeros = torch.zeros(size=(3,4))\n",
    "print(\"What is inside zeros? \\n\", zeros) # Returns the tensor\n",
    "\n",
    "ones = torch.ones(size=(3,4))\n",
    "print(\"\\nWhat is inside ones? \\n\", ones) # Returns the tensor"
   ]
  },
  {
   "cell_type": "markdown",
   "metadata": {},
   "source": [
    "#### Creating a range of tensors and tensors-like"
   ]
  },
  {
   "cell_type": "code",
   "execution_count": 40,
   "metadata": {},
   "outputs": [
    {
     "data": {
      "text/plain": [
       "tensor([ 1,  2,  3,  4,  5,  6,  7,  8,  9, 10])"
      ]
     },
     "execution_count": 40,
     "metadata": {},
     "output_type": "execute_result"
    }
   ],
   "source": [
    "tensor_range = torch.arange(start=1, end=11, step=1)\n",
    "tensor_range"
   ]
  },
  {
   "cell_type": "code",
   "execution_count": 42,
   "metadata": {},
   "outputs": [
    {
     "data": {
      "text/plain": [
       "tensor([0, 0, 0, 0, 0, 0, 0, 0, 0, 0])"
      ]
     },
     "execution_count": 42,
     "metadata": {},
     "output_type": "execute_result"
    }
   ],
   "source": [
    "tensor_like =torch.zeros_like(tensor_range)\n",
    "tensor_like"
   ]
  },
  {
   "cell_type": "markdown",
   "metadata": {},
   "source": [
    "#### Tensor Datatypes"
   ]
  },
  {
   "cell_type": "code",
   "execution_count": 45,
   "metadata": {},
   "outputs": [
    {
     "data": {
      "text/plain": [
       "tensor([1., 2., 3.])"
      ]
     },
     "execution_count": 45,
     "metadata": {},
     "output_type": "execute_result"
    }
   ],
   "source": [
    "float_32_tensor = torch.tensor([1.0, 2.0, 3.0], \n",
    "                               dtype=None, # What datatype is the tensor \n",
    "                               device=\"cpu\", # What device is the tensor on\n",
    "                               requires_grad=False # Do we need to keep track of the data's gradient?\n",
    "                               )\n",
    "float_32_tensor"
   ]
  },
  {
   "cell_type": "code",
   "execution_count": 47,
   "metadata": {},
   "outputs": [
    {
     "data": {
      "text/plain": [
       "(tensor([1., 2., 3.], dtype=torch.float16),)"
      ]
     },
     "execution_count": 47,
     "metadata": {},
     "output_type": "execute_result"
    }
   ],
   "source": [
    "float_16_tensor = float_32_tensor.type(dtype=torch.float16),\n",
    "float_16_tensor"
   ]
  }
 ],
 "metadata": {
  "kernelspec": {
   "display_name": ".venv",
   "language": "python",
   "name": "python3"
  },
  "language_info": {
   "codemirror_mode": {
    "name": "ipython",
    "version": 3
   },
   "file_extension": ".py",
   "mimetype": "text/x-python",
   "name": "python",
   "nbconvert_exporter": "python",
   "pygments_lexer": "ipython3",
   "version": "3.10.6"
  }
 },
 "nbformat": 4,
 "nbformat_minor": 2
}
