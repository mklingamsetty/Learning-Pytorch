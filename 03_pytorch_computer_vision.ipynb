{
 "cells": [
  {
   "cell_type": "markdown",
   "metadata": {},
   "source": [
    "# 03. PyTorch Computer Vision\n",
    "\n",
    "**Q**: What is Computer Vision?\n",
    "\n",
    "**A**: Allows Computers to process visual data\n",
    "\n",
    "**Q**: What is a Convolutional Neural Network?\n",
    "\n",
    "**A**: Allows Computers to process visual data\n"
   ]
  },
  {
   "cell_type": "code",
   "execution_count": 2,
   "metadata": {},
   "outputs": [
    {
     "data": {
      "text/plain": [
       "\"\\nComputer Vision Libraries:\\n    - torchvision (PyTorch's computer vision library)\\n    - torchvision.datasets (Get datasets and data loading functions)\\n    - torchvision.transforms (functions for manipulating images)\\n    - torch.models (get pre-trained computer vision models)\\n    - torch.utils.data.DataLoader (Creates a Python iterable over a dataset)\\n    - torch.utils.data.Dataset (An abstract class representing a dataset)\\n\""
      ]
     },
     "execution_count": 2,
     "metadata": {},
     "output_type": "execute_result"
    }
   ],
   "source": [
    "'''\n",
    "Computer Vision Libraries:\n",
    "    - torchvision (PyTorch's computer vision library)\n",
    "    - torchvision.datasets (Get datasets and data loading functions)\n",
    "    - torchvision.transforms (functions for manipulating images)\n",
    "    - torch.models (get pre-trained computer vision models)\n",
    "    - torch.utils.data.DataLoader (Creates a Python iterable over a dataset)\n",
    "    - torch.utils.data.Dataset (An abstract class representing a dataset)\n",
    "'''"
   ]
  },
  {
   "cell_type": "code",
   "execution_count": 3,
   "metadata": {},
   "outputs": [],
   "source": [
    "# Import all the necessary libraries\n",
    "\n",
    "import torch\n",
    "from torch import nn\n",
    "import torchvision\n",
    "from torchvision import *\n",
    "from matplotlib import pyplot as plt"
   ]
  },
  {
   "cell_type": "markdown",
   "metadata": {},
   "source": [
    "#### 1. Getting a Dataset"
   ]
  },
  {
   "cell_type": "code",
   "execution_count": null,
   "metadata": {},
   "outputs": [
    {
     "data": {
      "text/plain": [
       "['T-shirt/top',\n",
       " 'Trouser',\n",
       " 'Pullover',\n",
       " 'Dress',\n",
       " 'Coat',\n",
       " 'Sandal',\n",
       " 'Shirt',\n",
       " 'Sneaker',\n",
       " 'Bag',\n",
       " 'Ankle boot']"
      ]
     },
     "execution_count": 4,
     "metadata": {},
     "output_type": "execute_result"
    }
   ],
   "source": [
    "''' \n",
    "We will be using the FashionMNIST dataset for this tutorial.\n",
    "    -> FashionMNIST is a dataset of Zalando's article images \n",
    "        consisting of 60,000 training examples and 10,000 test examples.\n",
    "'''\n",
    "\n",
    "# Load the FashionMNIST dataset\n",
    "# Load the training set\n",
    "train_data = datasets.FashionMNIST(\n",
    "    root = 'data', # Location where the data will be downloaded\n",
    "    train = True, # Do we want the training set?\n",
    "    download = True, # Should the data be downloaded?\n",
    "    transform = transforms.ToTensor(), # how do we want to transform the data?\n",
    "    target_transform = None # how do we want to transform the labels/targets?\n",
    ")\n",
    "\n",
    "# Load the test set\n",
    "test_data = datasets.FashionMNIST(\n",
    "    root = 'data',\n",
    "    train = False,\n",
    "    download = True,\n",
    "    transform = transforms.ToTensor(),\n",
    "    target_transform = None\n",
    ")\n",
    "\n",
    "'''\n",
    "A little bit about the FashionMNIST dataset:\n",
    "    - The FashionMNIST dataset consists of 60,000 training examples and 10,000 test examples.\n",
    "    - Each example is a 28x28 grayscale image.\n",
    "    - Each example is associated with a label from 10 classes.\n",
    "    - The dataset is split into two parts: training and test.\n",
    "    - The training set consists of 60,000 examples and the test set consists of 10,000 examples.\n",
    "    - The labels are as follows:\n",
    "        0: T-shirt/top\n",
    "        1: Trouser\n",
    "        2: Pullover\n",
    "        3: Dress\n",
    "        4: Coat\n",
    "        5: Sandal\n",
    "        6: Shirt\n",
    "        7: Sneaker\n",
    "        8: Bag\n",
    "        9: Ankle boot\n",
    "'''\n",
    "\n",
    "train_data.classes"
   ]
  },
  {
   "cell_type": "code",
   "execution_count": 5,
   "metadata": {},
   "outputs": [
    {
     "data": {
      "text/plain": [
       "<matplotlib.image.AxesImage at 0x1f3838bf950>"
      ]
     },
     "execution_count": 5,
     "metadata": {},
     "output_type": "execute_result"
    },
    {
     "data": {
      "image/png": "[encoded data removed]",
      "text/plain": [
       "<Figure size 640x480 with 1 Axes>"
      ]
     },
     "metadata": {},
     "output_type": "display_data"
    }
   ],
   "source": [
    "image, label = train_data[0]\n",
    "plt.imshow(image.squeeze(), cmap='gray')"
   ]
  },
  {
   "cell_type": "markdown",
   "metadata": {},
   "source": [
    "#### 2. Preparing the Dataset\n",
    "\n",
    "DataLoader turns our dataset into a Python Iterable, changes our dataset into batches\n",
    "\n",
    "Why do we do this?\n",
    "1. It is computationally efficient.\n",
    "2. It gives our neural network more chances to update its gradients per epoch."
   ]
  },
  {
   "cell_type": "code",
   "execution_count": 36,
   "metadata": {},
   "outputs": [
    {
     "name": "stdout",
     "output_type": "stream",
     "text": [
      "Dataloaders: <torch.utils.data.dataloader.DataLoader object at 0x000001F385F2A7E0>, <torch.utils.data.dataloader.DataLoader object at 0x000001F385F2A960>\n",
      "Length of train_dataloader: 1875; Batch size: 32\n",
      "Length of test_dataloader: 313; Batch size: 32\n"
     ]
    }
   ],
   "source": [
    "from torch.utils.data import DataLoader\n",
    "\n",
    "# Setup the batch size Hyperparameter\n",
    "BATCH_SIZE = 32\n",
    "\n",
    "# Turn dataset into iterables\n",
    "train_dataloader = DataLoader(\n",
    "    train_data, \n",
    "    batch_size=BATCH_SIZE, \n",
    "    shuffle=True)\n",
    "\n",
    "test_dataloader = DataLoader(\n",
    "    test_data, \n",
    "    batch_size=BATCH_SIZE, \n",
    "    shuffle=False)\n",
    "\n",
    "'''\n",
    "What is the purpose of storing the data into batches?\n",
    "    - Storing the data into batches is useful because it allows us to train the model on smaller chunks of data at a time.\n",
    "    - This is useful because it allows us to fit the model to the data in smaller steps.\n",
    "    - This is useful because it allows us to train the model on a large dataset without running out of memory.\n",
    "\n",
    "So as of this example, Our batch size is 32. This means that we will be training the model on 32 examples, 32 pictures, at a time.\n",
    "'''\n",
    "\n",
    "# Lets see what we made\n",
    "print(f\"Dataloaders: {train_dataloader}, {test_dataloader}\")\n",
    "print(f\"Length of train_dataloader: {len(train_dataloader)}; Batch size: {BATCH_SIZE}\")\n",
    "print(f\"Length of test_dataloader: {len(test_dataloader)}; Batch size: {BATCH_SIZE}\")"
   ]
  },
  {
   "cell_type": "code",
   "execution_count": 35,
   "metadata": {},
   "outputs": [
    {
     "data": {
      "text/plain": [
       "(torch.Size([32, 1, 28, 28]), torch.Size([32]))"
      ]
     },
     "execution_count": 35,
     "metadata": {},
     "output_type": "execute_result"
    }
   ],
   "source": [
    "# See whats inside of the dataloader\n",
    "images, labels = next(iter(train_dataloader))\n",
    "images.shape, labels.shape"
   ]
  },
  {
   "cell_type": "markdown",
   "metadata": {},
   "source": [
    "#### 3. Building a Base Model\n",
    "A Baseline-Model is a simple model that can be improved on with subsequent experiments "
   ]
  },
  {
   "cell_type": "code",
   "execution_count": 8,
   "metadata": {},
   "outputs": [],
   "source": [
    "torch.manual_seed(42)\n",
    "\n",
    "# Create a Flatten Layer\n",
    "flatten_model = torch.nn.Flatten()\n",
    "\n",
    "'''\n",
    "What is a Flatten Layer?\n",
    "    -> A Flatten layer is used to flatten the input tensor into a 1D tensor.\n",
    "    -> It is used to convert the 2D input tensor of shape (N, C, H, W) \n",
    "        into a 1D tensor of shape (N, C*H*W).\n",
    "    -> We can then use the squeeze() method to remove the extra dimension.\n",
    "        -> Resulting in a tensor of shape (C*H*W).\n",
    "'''\n",
    "\n",
    "class FashionMNSTModelV0(nn.Module):\n",
    "    def __init__(self, input_shape:int, output_shape:int, hidden_units:int):\n",
    "        super(FashionMNSTModelV0, self).__init__()\n",
    "        self.layer_stack = nn.Sequential(\n",
    "            nn.Flatten(),\n",
    "            nn.Linear(in_features=input_shape, out_features=hidden_units),\n",
    "            nn.Linear(in_features=hidden_units, out_features=output_shape)\n",
    "        )\n",
    "\n",
    "    def forward(self, x):\n",
    "        return self.layer_stack(x)\n",
    "\n",
    "modelV0 = FashionMNSTModelV0(\n",
    "    input_shape=28*28, # Size of the image\n",
    "    output_shape=len(train_data.classes), # One for every class\n",
    "    hidden_units=10) # How many units in the hidden layer?"
   ]
  },
  {
   "cell_type": "markdown",
   "metadata": {},
   "source": [
    "#### 3.1 Setup Loss and Optimizer Function\n",
    "* Loss Function: Since we are working with Multi-Class Data, we will be using \n",
    "`nn.CrossEntropyLoss()`\n",
    "* Optimizer: Our Optimizer will be `torch.optim.SGD` (Stohastic Gradient Descent)\n",
    "* Evaluation Metric: Since we are working with a Classification model, its best to use an Accuracy Function to test our model"
   ]
  },
  {
   "cell_type": "code",
   "execution_count": 9,
   "metadata": {},
   "outputs": [],
   "source": [
    "# Set up Loss Function\n",
    "loss_fn = nn.CrossEntropyLoss()\n",
    "\n",
    "# Set up Optimizer\n",
    "optimizer = torch.optim.SGD(params=modelV0.parameters(), lr=0.1)\n",
    "\n",
    "# Accuracy function\n",
    "def calculate_accuracy(y_true, y_pred):\n",
    "    correct = torch.eq(y_true, y_pred).sum().item()\n",
    "    acc = (correct / len(y_true)) * 100\n",
    "    return acc\n"
   ]
  },
  {
   "cell_type": "markdown",
   "metadata": {},
   "source": [
    "#### 3.2 Creating a Function to time our experiments\n",
    "Two things we want to keep track of during Machine Learning\n",
    "1. Model's Performance (Loss and Accuracy values)\n",
    "2. How fast it runs "
   ]
  },
  {
   "cell_type": "code",
   "execution_count": 10,
   "metadata": {},
   "outputs": [],
   "source": [
    "from timeit import default_timer as timer\n",
    "def print_train_time(start:float, end:float):\n",
    "    print(f\"Training Time: {end - start:.3f} seconds\")"
   ]
  },
  {
   "cell_type": "markdown",
   "metadata": {},
   "source": [
    "#### 3.3 Creating our Training and Testing Loops\n",
    "1. Loop through data (epochs)\n",
    "2. Loop through training batches, perform training steps, calculate the train loss *per batch*\n",
    "3. Loop through testing batches, perform testing steps, calculate the test loss *per batch*\n",
    "4. Print out whats happening\n",
    "5. Time it all"
   ]
  },
  {
   "cell_type": "code",
   "execution_count": 16,
   "metadata": {},
   "outputs": [
    {
     "name": "stderr",
     "output_type": "stream",
     "text": [
      "  0%|          | 0/3 [00:00<?, ?it/s]"
     ]
    },
    {
     "name": "stdout",
     "output_type": "stream",
     "text": [
      "Epoch: 0\n",
      "-------\n",
      "Looked at 0/60000 samples\n",
      "Looked at 12800/60000 samples\n",
      "Looked at 25600/60000 samples\n",
      "Looked at 38400/60000 samples\n",
      "Looked at 51200/60000 samples\n"
     ]
    },
    {
     "name": "stderr",
     "output_type": "stream",
     "text": [
      " 33%|███▎      | 1/3 [00:15<00:30, 15.44s/it]"
     ]
    },
    {
     "name": "stdout",
     "output_type": "stream",
     "text": [
      "\n",
      "Train loss: 0.42609 | Test loss: 0.45778, Test acc: 84.02%\n",
      "\n",
      "Epoch: 1\n",
      "-------\n",
      "Looked at 0/60000 samples\n",
      "Looked at 12800/60000 samples\n",
      "Looked at 25600/60000 samples\n",
      "Looked at 38400/60000 samples\n",
      "Looked at 51200/60000 samples\n"
     ]
    },
    {
     "name": "stderr",
     "output_type": "stream",
     "text": [
      " 67%|██████▋   | 2/3 [00:30<00:15, 15.19s/it]"
     ]
    },
    {
     "name": "stdout",
     "output_type": "stream",
     "text": [
      "\n",
      "Train loss: 0.42350 | Test loss: 0.45996, Test acc: 84.17%\n",
      "\n",
      "Epoch: 2\n",
      "-------\n",
      "Looked at 0/60000 samples\n",
      "Looked at 12800/60000 samples\n",
      "Looked at 25600/60000 samples\n",
      "Looked at 38400/60000 samples\n",
      "Looked at 51200/60000 samples\n"
     ]
    },
    {
     "name": "stderr",
     "output_type": "stream",
     "text": [
      "100%|██████████| 3/3 [00:45<00:00, 15.03s/it]"
     ]
    },
    {
     "name": "stdout",
     "output_type": "stream",
     "text": [
      "\n",
      "Train loss: 0.41972 | Test loss: 0.46258, Test acc: 83.98%\n",
      "\n",
      "Training Time: 45.111 seconds\n"
     ]
    },
    {
     "name": "stderr",
     "output_type": "stream",
     "text": [
      "\n"
     ]
    }
   ],
   "source": [
    "# Import tqdm for progress bar\n",
    "from tqdm.auto import tqdm\n",
    "\n",
    "# Set the seed and start the timer\n",
    "torch.manual_seed(42)\n",
    "train_time_start_on_cpu = timer()\n",
    "\n",
    "# Set the number of epochs (we'll keep this small for faster training times)\n",
    "epochs = 3\n",
    "\n",
    "# Create training and testing loop\n",
    "for epoch in tqdm(range(epochs)):\n",
    "    print(f\"Epoch: {epoch}\\n-------\")\n",
    "    ### Training\n",
    "    train_loss = 0\n",
    "    # Add a loop to loop through training batches\n",
    "    for batch, (X, y) in enumerate(train_dataloader):\n",
    "        modelV0.train() \n",
    "        # 1. Forward pass\n",
    "        y_pred = modelV0(X)\n",
    "\n",
    "        # 2. Calculate loss (per batch)\n",
    "        loss = loss_fn(y_pred, y)\n",
    "        train_loss += loss # accumulatively add up the loss per epoch \n",
    "\n",
    "        # 3. Optimizer zero grad\n",
    "        optimizer.zero_grad()\n",
    "\n",
    "        # 4. Loss backward\n",
    "        loss.backward()\n",
    "\n",
    "        # 5. Optimizer step\n",
    "        optimizer.step()\n",
    "\n",
    "        # Print out how many samples have been seen\n",
    "        if batch % 400 == 0:\n",
    "            print(f\"Looked at {batch * len(X)}/{len(train_dataloader.dataset)} samples\")\n",
    "\n",
    "    # Divide total train loss by length of train dataloader (average loss per batch per epoch)\n",
    "    train_loss /= len(train_dataloader)\n",
    "    \n",
    "    ### Testing\n",
    "    # Setup variables for accumulatively adding up loss and accuracy \n",
    "    test_loss, test_acc = 0, 0 \n",
    "    modelV0.eval()\n",
    "    with torch.inference_mode():\n",
    "        for X, y in test_dataloader:\n",
    "            # 1. Forward pass\n",
    "            test_pred = modelV0(X)\n",
    "           \n",
    "            # 2. Calculate loss (accumulatively)\n",
    "            test_loss += loss_fn(test_pred, y) # accumulatively add up the loss per epoch\n",
    "\n",
    "            # 3. Calculate accuracy (preds need to be same as y_true)\n",
    "            test_acc += calculate_accuracy(y_true=y, y_pred=test_pred.argmax(dim=1))\n",
    "        \n",
    "        # Calculations on test metrics need to happen inside torch.inference_mode()\n",
    "        # Divide total test loss by length of test dataloader (per batch)\n",
    "        test_loss /= len(test_dataloader)\n",
    "\n",
    "        # Divide total accuracy by length of test dataloader (per batch)\n",
    "        test_acc /= len(test_dataloader)\n",
    "\n",
    "    ## Print out what's happening\n",
    "    print(f\"\\nTrain loss: {train_loss:.5f} | Test loss: {test_loss:.5f}, Test acc: {test_acc:.2f}%\\n\")\n",
    "\n",
    "# Calculate training time      \n",
    "train_time_end_on_cpu = timer()\n",
    "total_train_time_modelV0 = print_train_time(start=train_time_start_on_cpu, \n",
    "                                           end=train_time_end_on_cpu)"
   ]
  }
 ],
 "metadata": {
  "kernelspec": {
   "display_name": ".venv",
   "language": "python",
   "name": "python3"
  },
  "language_info": {
   "codemirror_mode": {
    "name": "ipython",
    "version": 3
   },
   "file_extension": ".py",
   "mimetype": "text/x-python",
   "name": "python",
   "nbconvert_exporter": "python",
   "pygments_lexer": "ipython3",
   "version": "3.12.6"
  }
 },
 "nbformat": 4,
 "nbformat_minor": 2
}
