{
 "cells": [
  {
   "cell_type": "markdown",
   "metadata": {},
   "source": [
    "# 03. PyTorch Computer Vision\n",
    "\n",
    "**Q**: What is Computer Vision?\n",
    "\n",
    "**A**: Allows Computers to process visual data\n",
    "\n",
    "**Q**: What is a Convolutional Neural Network?\n",
    "\n",
    "**A**: Allows Computers to process visual data\n"
   ]
  },
  {
   "cell_type": "code",
   "execution_count": 1,
   "metadata": {},
   "outputs": [
    {
     "data": {
      "text/plain": [
       "\"\\nComputer Vision Libraries:\\n    - torchvision (PyTorch's computer vision library)\\n    - torchvision.datasets (Get datasets and data loading functions)\\n    - torchvision.transforms (functions for manipulating images)\\n    - torch.models (get pre-trained computer vision models)\\n    - torch.utils.data.DataLoader (Creates a Python iterable over a dataset)\\n    - torch.utils.data.Dataset (An abstract class representing a dataset)\\n\""
      ]
     },
     "execution_count": 1,
     "metadata": {},
     "output_type": "execute_result"
    }
   ],
   "source": [
    "'''\n",
    "Computer Vision Libraries:\n",
    "    - torchvision (PyTorch's computer vision library)\n",
    "    - torchvision.datasets (Get datasets and data loading functions)\n",
    "    - torchvision.transforms (functions for manipulating images)\n",
    "    - torch.models (get pre-trained computer vision models)\n",
    "    - torch.utils.data.DataLoader (Creates a Python iterable over a dataset)\n",
    "    - torch.utils.data.Dataset (An abstract class representing a dataset)\n",
    "'''"
   ]
  },
  {
   "cell_type": "code",
   "execution_count": 2,
   "metadata": {},
   "outputs": [],
   "source": [
    "# Import all the necessary libraries\n",
    "\n",
    "import torch\n",
    "from torch import nn\n",
    "import torchvision\n",
    "from torchvision import *\n",
    "from matplotlib import pyplot as plt"
   ]
  },
  {
   "cell_type": "markdown",
   "metadata": {},
   "source": [
    "#### 1. Getting a Dataset"
   ]
  },
  {
   "cell_type": "code",
   "execution_count": 3,
   "metadata": {},
   "outputs": [
    {
     "data": {
      "text/plain": [
       "['T-shirt/top',\n",
       " 'Trouser',\n",
       " 'Pullover',\n",
       " 'Dress',\n",
       " 'Coat',\n",
       " 'Sandal',\n",
       " 'Shirt',\n",
       " 'Sneaker',\n",
       " 'Bag',\n",
       " 'Ankle boot']"
      ]
     },
     "execution_count": 3,
     "metadata": {},
     "output_type": "execute_result"
    }
   ],
   "source": [
    "''' \n",
    "We will be using the FashionMNIST dataset for this tutorial.\n",
    "    -> FashionMNIST is a dataset of Zalando's article images \n",
    "        consisting of 60,000 training examples and 10,000 test examples.\n",
    "'''\n",
    "\n",
    "# Load the FashionMNIST dataset\n",
    "# Load the training set\n",
    "train_data = datasets.FashionMNIST(\n",
    "    root = 'data', # Location where the data will be downloaded\n",
    "    train = True, # Do we want the training set?\n",
    "    download = True, # Should the data be downloaded?\n",
    "    transform = transforms.ToTensor(), # how do we want to transform the data?\n",
    "    target_transform = None # how do we want to transform the labels/targets?\n",
    ")\n",
    "\n",
    "# Load the test set\n",
    "test_data = datasets.FashionMNIST(\n",
    "    root = 'data',\n",
    "    train = False,\n",
    "    download = True,\n",
    "    transform = transforms.ToTensor(),\n",
    "    target_transform = None\n",
    ")\n",
    "\n",
    "'''\n",
    "A little bit about the FashionMNIST dataset:\n",
    "    - The FashionMNIST dataset consists of 60,000 training examples and 10,000 test examples.\n",
    "    - Each example is a 28x28 grayscale image.\n",
    "    - Each example is associated with a label from 10 classes.\n",
    "    - The dataset is split into two parts: training and test.\n",
    "    - The training set consists of 60,000 examples and the test set consists of 10,000 examples.\n",
    "    - The labels are as follows:\n",
    "        0: T-shirt/top\n",
    "        1: Trouser\n",
    "        2: Pullover\n",
    "        3: Dress\n",
    "        4: Coat\n",
    "        5: Sandal\n",
    "        6: Shirt\n",
    "        7: Sneaker\n",
    "        8: Bag\n",
    "        9: Ankle boot\n",
    "'''\n",
    "\n",
    "train_data.classes"
   ]
  },
  {
   "cell_type": "code",
   "execution_count": 44,
   "metadata": {},
   "outputs": [
    {
     "name": "stdout",
     "output_type": "stream",
     "text": [
      "torch.Size([1, 28, 28]) 9\n"
     ]
    },
    {
     "data": {
      "text/plain": [
       "<matplotlib.image.AxesImage at 0x1e796fee630>"
      ]
     },
     "execution_count": 44,
     "metadata": {},
     "output_type": "execute_result"
    },
    {
     "data": {
      "image/png": "[encoded data removed]",
      "text/plain": [
       "<Figure size 640x480 with 1 Axes>"
      ]
     },
     "metadata": {},
     "output_type": "display_data"
    }
   ],
   "source": [
    "image, label = train_data[0]\n",
    "print(image.shape, label)\n",
    "plt.title(train_data.classes[label])\n",
    "plt.imshow(image.squeeze(), cmap='gray')\n"
   ]
  },
  {
   "cell_type": "markdown",
   "metadata": {},
   "source": [
    "#### 2. Preparing the Dataset\n",
    "\n",
    "DataLoader turns our dataset into a Python Iterable, changes our dataset into batches\n",
    "\n",
    "Why do we do this?\n",
    "1. It is computationally efficient.\n",
    "2. It gives our neural network more chances to update its gradients per epoch."
   ]
  },
  {
   "cell_type": "code",
   "execution_count": 5,
   "metadata": {},
   "outputs": [
    {
     "name": "stdout",
     "output_type": "stream",
     "text": [
      "Dataloaders: <torch.utils.data.dataloader.DataLoader object at 0x000001E78A80EC00>, <torch.utils.data.dataloader.DataLoader object at 0x000001E78A862600>\n",
      "Length of train_dataloader: 1875; Batch size: 32\n",
      "Length of test_dataloader: 313; Batch size: 32\n"
     ]
    }
   ],
   "source": [
    "from torch.utils.data import DataLoader\n",
    "\n",
    "# Setup the batch size Hyperparameter\n",
    "BATCH_SIZE = 32\n",
    "\n",
    "'''\n",
    "What is the purpose of storing the data into batches?\n",
    "\n",
    "    - Controls Memory Management:\n",
    "        - Instead of processing the entire dataset at once, the data is split \n",
    "            into smaller chunks called batches.\n",
    "            - Smaller batch sizes use less memory because fewer samples are loaded \n",
    "                and processed at a time.\n",
    "            - Larger batch sizes may require more memory but process data faster \n",
    "                because fewer iterations are needed.\n",
    "\n",
    "    - Affects Training Speed and Model Performance:\n",
    "        - Small batches: More updates to the model per epoch but can be slower overall.\n",
    "        - Large batches: Faster overall but may generalize poorly to new data.\n",
    "'''\n",
    "\n",
    "# Turn dataset into iterables\n",
    "train_dataloader = DataLoader(\n",
    "    train_data, \n",
    "    batch_size=BATCH_SIZE, \n",
    "    shuffle=True)\n",
    "\n",
    "test_dataloader = DataLoader(\n",
    "    test_data, \n",
    "    batch_size=BATCH_SIZE, \n",
    "    shuffle=False)\n",
    "\n",
    "# Lets see what we made\n",
    "print(f\"Dataloaders: {train_dataloader}, {test_dataloader}\")\n",
    "print(f\"Length of train_dataloader: {len(train_dataloader)}; Batch size: {BATCH_SIZE}\")\n",
    "print(f\"Length of test_dataloader: {len(test_dataloader)}; Batch size: {BATCH_SIZE}\")"
   ]
  },
  {
   "cell_type": "code",
   "execution_count": null,
   "metadata": {},
   "outputs": [
    {
     "data": {
      "text/plain": [
       "(torch.Size([32, 1, 28, 28]), torch.Size([32]))"
      ]
     },
     "execution_count": 6,
     "metadata": {},
     "output_type": "execute_result"
    }
   ],
   "source": [
    "# See whats inside of the dataloader\n",
    "\n",
    "'''\n",
    "On one iterable of the dataloader, we have a tuple of two elements:\n",
    "    - The first element is a tensor of images\n",
    "    - The second element is a tensor of labels\n",
    "\n",
    "    - So keep in mind the batch size was initialized as 32, so there are 32 images and \n",
    "        32 labels in each batch.\n",
    "    \n",
    "    Each Iterable contains a tuple of 32 images and 32 Labels\n",
    "        -> Each image is a tensor of shape (1, 28, 28)\n",
    "            -> First dimension is the number of channels (1 for grayscale)\n",
    "            -> Second and third dimensions are the height and width of the image\n",
    "        -> Each label is a tensor of shape (32)\n",
    "            -> A 1D tensor of length 32 (32 Labels for the 32 images)\n",
    "'''\n",
    "images, labels = next(iter(train_dataloader))\n",
    "images.shape, labels.shape"
   ]
  },
  {
   "cell_type": "markdown",
   "metadata": {},
   "source": [
    "#### 3. Building a Base Model\n",
    "A Baseline-Model is a simple model that can be improved on with subsequent experiments "
   ]
  },
  {
   "cell_type": "code",
   "execution_count": 7,
   "metadata": {},
   "outputs": [],
   "source": [
    "torch.manual_seed(42)\n",
    "\n",
    "# Create a Flatten Layer\n",
    "flatten_model = torch.nn.Flatten()\n",
    "\n",
    "'''\n",
    "What is a Flatten Layer?\n",
    "    -> A Flatten layer is used to flatten the input tensor into a 1D tensor.\n",
    "    -> It is used to convert the 2D input tensor of shape (N, C, H, W) \n",
    "        into a 1D tensor of shape (N, C*H*W).\n",
    "'''\n",
    "\n",
    "class FashionMNSTModelV0(nn.Module):\n",
    "    def __init__(self, input_shape:int, output_shape:int, hidden_units:int):\n",
    "        super(FashionMNSTModelV0, self).__init__()\n",
    "        self.layer_stack = nn.Sequential(\n",
    "            nn.Flatten(),\n",
    "            nn.Linear(in_features=input_shape, out_features=hidden_units),\n",
    "            nn.Linear(in_features=hidden_units, out_features=output_shape)\n",
    "        )\n",
    "\n",
    "    def forward(self, x):\n",
    "        return self.layer_stack(x)\n",
    "\n",
    "modelV0 = FashionMNSTModelV0(\n",
    "    input_shape=28*28, # Size of the image\n",
    "    output_shape=len(train_data.classes), # One for every class\n",
    "    hidden_units=10) # How many units in the hidden layer?"
   ]
  },
  {
   "cell_type": "markdown",
   "metadata": {},
   "source": [
    "#### 3.1 Setup Loss and Optimizer Function\n",
    "* Loss Function: Since we are working with Multi-Class Data, we will be using \n",
    "`nn.CrossEntropyLoss()`\n",
    "* Optimizer: Our Optimizer will be `torch.optim.SGD` (Stohastic Gradient Descent)\n",
    "* Evaluation Metric: Since we are working with a Classification model, its best to use an Accuracy Function to test our model"
   ]
  },
  {
   "cell_type": "code",
   "execution_count": 8,
   "metadata": {},
   "outputs": [],
   "source": [
    "# Set up Loss Function\n",
    "loss_fn = nn.CrossEntropyLoss()\n",
    "\n",
    "# Set up Optimizer\n",
    "optimizer = torch.optim.SGD(params=modelV0.parameters(), lr=0.1)\n",
    "\n",
    "# Accuracy function\n",
    "def calculate_accuracy(y_true, y_pred):\n",
    "    correct = torch.eq(y_true, y_pred).sum().item()\n",
    "    acc = (correct / len(y_true)) * 100\n",
    "    return acc\n"
   ]
  },
  {
   "cell_type": "markdown",
   "metadata": {},
   "source": [
    "#### 3.2 Creating a Function to time our experiments\n",
    "Two things we want to keep track of during Machine Learning\n",
    "1. Model's Performance (Loss and Accuracy values)\n",
    "2. How fast it runs "
   ]
  },
  {
   "cell_type": "code",
   "execution_count": 9,
   "metadata": {},
   "outputs": [],
   "source": [
    "from timeit import default_timer as timer\n",
    "def print_train_time(start:float, end:float):\n",
    "    print(f\"Training Time: {end - start:.3f} seconds\")"
   ]
  },
  {
   "cell_type": "markdown",
   "metadata": {},
   "source": [
    "#### 3.3 Creating our Training and Testing Loops\n",
    "1. Loop through data (epochs)\n",
    "2. Loop through training batches, perform training steps, calculate the train loss *per batch*\n",
    "3. Loop through testing batches, perform testing steps, calculate the test loss *per batch*\n",
    "4. Print out whats happening\n",
    "5. Time it all"
   ]
  },
  {
   "cell_type": "code",
   "execution_count": 10,
   "metadata": {},
   "outputs": [
    {
     "name": "stderr",
     "output_type": "stream",
     "text": [
      "c:\\Users\\Mural\\Github Projects\\Learning-Pytorch\\.venv\\Lib\\site-packages\\tqdm\\auto.py:21: TqdmWarning: IProgress not found. Please update jupyter and ipywidgets. See https://ipywidgets.readthedocs.io/en/stable/user_install.html\n",
      "  from .autonotebook import tqdm as notebook_tqdm\n",
      "  0%|          | 0/3 [00:00<?, ?it/s]"
     ]
    },
    {
     "name": "stdout",
     "output_type": "stream",
     "text": [
      "Epoch: 0\n",
      "-------\n",
      "Looked at 0/60000 samples\n",
      "Looked at 12800/60000 samples\n",
      "Looked at 25600/60000 samples\n",
      "Looked at 38400/60000 samples\n",
      "Looked at 51200/60000 samples\n"
     ]
    },
    {
     "name": "stderr",
     "output_type": "stream",
     "text": [
      " 33%|███▎      | 1/3 [00:06<00:12,  6.36s/it]"
     ]
    },
    {
     "name": "stdout",
     "output_type": "stream",
     "text": [
      "\n",
      "Train loss: 0.59039 | Test loss: 0.50954, Test acc: 82.04%\n",
      "\n",
      "Epoch: 1\n",
      "-------\n",
      "Looked at 0/60000 samples\n",
      "Looked at 12800/60000 samples\n",
      "Looked at 25600/60000 samples\n",
      "Looked at 38400/60000 samples\n",
      "Looked at 51200/60000 samples\n"
     ]
    },
    {
     "name": "stderr",
     "output_type": "stream",
     "text": [
      " 67%|██████▋   | 2/3 [00:12<00:06,  6.47s/it]"
     ]
    },
    {
     "name": "stdout",
     "output_type": "stream",
     "text": [
      "\n",
      "Train loss: 0.47633 | Test loss: 0.47989, Test acc: 83.20%\n",
      "\n",
      "Epoch: 2\n",
      "-------\n",
      "Looked at 0/60000 samples\n",
      "Looked at 12800/60000 samples\n",
      "Looked at 25600/60000 samples\n",
      "Looked at 38400/60000 samples\n",
      "Looked at 51200/60000 samples\n"
     ]
    },
    {
     "name": "stderr",
     "output_type": "stream",
     "text": [
      "100%|██████████| 3/3 [00:19<00:00,  6.54s/it]"
     ]
    },
    {
     "name": "stdout",
     "output_type": "stream",
     "text": [
      "\n",
      "Train loss: 0.45503 | Test loss: 0.47664, Test acc: 83.43%\n",
      "\n",
      "Training Time: 19.621 seconds\n"
     ]
    },
    {
     "name": "stderr",
     "output_type": "stream",
     "text": [
      "\n"
     ]
    }
   ],
   "source": [
    "# Import tqdm for progress bar\n",
    "from tqdm.auto import tqdm\n",
    "\n",
    "# Set the seed and start the timer\n",
    "torch.manual_seed(42)\n",
    "train_time_start_on_cpu = timer()\n",
    "\n",
    "# Set the number of epochs (we'll keep this small for faster training times)\n",
    "epochs = 3\n",
    "\n",
    "# Create training and testing loop\n",
    "for epoch in tqdm(range(epochs)):\n",
    "    print(f\"Epoch: {epoch}\\n-------\")\n",
    "    ### Training\n",
    "    train_loss = 0\n",
    "    # Add a loop to loop through training batches\n",
    "    for batch, (X, y) in enumerate(train_dataloader):\n",
    "        modelV0.train() \n",
    "        # 1. Forward pass\n",
    "        y_pred = modelV0(X)\n",
    "\n",
    "        # 2. Calculate loss (per batch)\n",
    "        loss = loss_fn(y_pred, y)\n",
    "        train_loss += loss # accumulatively add up the loss per epoch \n",
    "\n",
    "        # 3. Optimizer zero grad\n",
    "        optimizer.zero_grad()\n",
    "\n",
    "        # 4. Loss backward\n",
    "        loss.backward()\n",
    "\n",
    "        # 5. Optimizer step\n",
    "        optimizer.step()\n",
    "\n",
    "        # Print out how many samples have been seen\n",
    "        if batch % 400 == 0:\n",
    "            print(f\"Looked at {batch * len(X)}/{len(train_dataloader.dataset)} samples\")\n",
    "\n",
    "    # Divide total train loss by length of train dataloader (average loss per batch per epoch)\n",
    "    train_loss /= len(train_dataloader)\n",
    "    \n",
    "    ### Testing\n",
    "    # Setup variables for accumulatively adding up loss and accuracy \n",
    "    test_loss, test_acc = 0, 0 \n",
    "    modelV0.eval()\n",
    "    with torch.inference_mode():\n",
    "        for X, y in test_dataloader:\n",
    "            # 1. Forward pass\n",
    "            test_pred = modelV0(X)\n",
    "           \n",
    "            # 2. Calculate loss (accumulatively)\n",
    "            test_loss += loss_fn(test_pred, y) # accumulatively add up the loss per epoch\n",
    "\n",
    "            # 3. Calculate accuracy (preds need to be same as y_true)\n",
    "            test_acc += calculate_accuracy(y_true=y, y_pred=test_pred.argmax(dim=1))\n",
    "        \n",
    "        # Calculations on test metrics need to happen inside torch.inference_mode()\n",
    "        # Divide total test loss by length of test dataloader (per batch)\n",
    "        test_loss /= len(test_dataloader)\n",
    "\n",
    "        # Divide total accuracy by length of test dataloader (per batch)\n",
    "        test_acc /= len(test_dataloader)\n",
    "\n",
    "    ## Print out what's happening\n",
    "    print(f\"\\nTrain loss: {train_loss:.5f} | Test loss: {test_loss:.5f}, Test acc: {test_acc:.2f}%\\n\")\n",
    "\n",
    "# Calculate training time      \n",
    "train_time_end_on_cpu = timer()\n",
    "total_train_time_modelV0 = print_train_time(start=train_time_start_on_cpu, \n",
    "                                           end=train_time_end_on_cpu)"
   ]
  },
  {
   "cell_type": "markdown",
   "metadata": {},
   "source": [
    "#### 4. Make Predictions and get ModelV0 Results"
   ]
  },
  {
   "cell_type": "code",
   "execution_count": 11,
   "metadata": {},
   "outputs": [
    {
     "name": "stdout",
     "output_type": "stream",
     "text": [
      "{'Model Name: ': FashionMNSTModelV0(\n",
      "  (layer_stack): Sequential(\n",
      "    (0): Flatten(start_dim=1, end_dim=-1)\n",
      "    (1): Linear(in_features=784, out_features=10, bias=True)\n",
      "    (2): Linear(in_features=10, out_features=10, bias=True)\n",
      "  )\n",
      "), 'loss': tensor(0.4766), 'accuracy': 83.42651757188499}\n"
     ]
    }
   ],
   "source": [
    "torch.manual_seed(42)\n",
    "\n",
    "def eval_model(model:torch.nn.Module, dataloader:torch.utils.data.DataLoader, \n",
    "    loss_fn:torch.nn.Module, calculate_accuracy):\n",
    "\n",
    "    ''' Returns Results of the Model predicting on the Dataloader '''\n",
    "    model.eval()\n",
    "    loss, acc = 0, 0\n",
    "    with torch.inference_mode():\n",
    "        for X, y in dataloader:\n",
    "            # Make Predictions\n",
    "            y_pred = model(X)\n",
    "\n",
    "            # Accumulate Loss and Accuracy values per batch\n",
    "            loss += loss_fn(y_pred, y)\n",
    "            acc += calculate_accuracy(y_true=y, y_pred=y_pred.argmax(dim=1))\n",
    "\n",
    "        # Scale Loss and Accuracy values to find average per batch\n",
    "        loss /= len(dataloader)\n",
    "        acc /= len(dataloader)\n",
    "    \n",
    "    return {\"Model Name: \": model,\"loss\": loss, \"accuracy\": acc}\n",
    "\n",
    "# Now lets evaluate the model\n",
    "results = eval_model(model=modelV0, \n",
    "    dataloader=test_dataloader, \n",
    "    loss_fn=loss_fn, \n",
    "    calculate_accuracy=calculate_accuracy)\n",
    "\n",
    "print(results)"
   ]
  },
  {
   "cell_type": "markdown",
   "metadata": {},
   "source": [
    "#### 5. Building a Better Model with Non-Linear Layers"
   ]
  },
  {
   "cell_type": "code",
   "execution_count": 12,
   "metadata": {},
   "outputs": [],
   "source": [
    "class FashionMNSTModelV1(nn.Module):\n",
    "    def __init__(self, input_shape:int, output_shape:int, hidden_units:int):\n",
    "        super().__init__()\n",
    "        self.layer_stack = nn.Sequential(\n",
    "            nn.Flatten(), # Flatten input to a single vector\n",
    "            nn.Linear(in_features=input_shape, out_features=hidden_units),\n",
    "            nn.ReLU(),\n",
    "            nn.Linear(in_features=hidden_units, out_features=output_shape),\n",
    "            nn.ReLU()\n",
    "        )\n",
    "\n",
    "    def forward(self, x):\n",
    "        return self.layer_stack(x)\n",
    "\n",
    "modelV1 = FashionMNSTModelV1(\n",
    "    input_shape=28*28, # Size of the image\n",
    "    output_shape=len(train_data.classes), # One for every class\n",
    "    hidden_units=10) # How many units in the hidden layer? (Arbitrary)\n",
    "\n",
    "# Loss and Optimizer\n",
    "loss_fn = nn.CrossEntropyLoss() # <- Measures how wrong our model is\n",
    "optimizer = torch.optim.SGD(params=modelV1.parameters(), lr=0.1) # Updates our model parameters based off of the learning rate"
   ]
  },
  {
   "cell_type": "markdown",
   "metadata": {},
   "source": [
    "#### 5.1 Functionizing Testing and Training"
   ]
  },
  {
   "cell_type": "code",
   "execution_count": 13,
   "metadata": {},
   "outputs": [],
   "source": [
    "def train_step(model: torch.nn.Module,\n",
    "               data_loader: torch.utils.data.DataLoader,\n",
    "               loss_fn: torch.nn.Module,\n",
    "               optimizer: torch.optim.Optimizer,\n",
    "               calculate_accuracy\n",
    "               ):\n",
    "    train_loss, train_acc = 0, 0\n",
    "     # put model in training mode\n",
    "    for batch, (X, y) in enumerate(data_loader):\n",
    "        model.train()     \n",
    "        # 1. Forward pass\n",
    "        y_pred = model(X)\n",
    "\n",
    "        # 2. Calculate loss\n",
    "        loss = loss_fn(y_pred, y)\n",
    "        train_loss += loss\n",
    "        train_acc += calculate_accuracy(y_true=y,\n",
    "                                 y_pred=y_pred.argmax(dim=1)) # Go from logits -> pred labels\n",
    "\n",
    "        # 3. Optimizer zero grad\n",
    "        optimizer.zero_grad()\n",
    "\n",
    "        # 4. Loss backward\n",
    "        loss.backward()\n",
    "\n",
    "        # 5. Optimizer step\n",
    "        optimizer.step()\n",
    "\n",
    "    # Calculate loss and accuracy per epoch and print out what's happening\n",
    "    train_loss /= len(data_loader)\n",
    "    train_acc /= len(data_loader)\n",
    "    print(f\"Train loss: {train_loss:.5f} | Train accuracy: {train_acc:.2f}%\")\n",
    "\n",
    "def test_step(data_loader: torch.utils.data.DataLoader,\n",
    "              model: torch.nn.Module,\n",
    "              loss_fn: torch.nn.Module,\n",
    "              calculate_accuracy\n",
    "              ):\n",
    "    test_loss, test_acc = 0, 0\n",
    "    \n",
    "    model.eval() # put model in eval mode\n",
    "    # Turn on inference context manager\n",
    "    with torch.inference_mode(): \n",
    "        for X, y in data_loader:\n",
    "            # Send data to GPU\n",
    "            # 1. Forward pass\n",
    "            test_pred = model(X)\n",
    "            \n",
    "            # 2. Calculate loss and accuracy\n",
    "            test_loss += loss_fn(test_pred, y)\n",
    "            test_acc += calculate_accuracy(y_true=y,\n",
    "                y_pred=test_pred.argmax(dim=1) # Go from logits -> pred labels\n",
    "            )\n",
    "        \n",
    "        # Adjust metrics and print out\n",
    "        test_loss /= len(data_loader)\n",
    "        test_acc /= len(data_loader)\n",
    "        print(f\"Test loss: {test_loss:.5f} | Test accuracy: {test_acc:.2f}%\\n\")"
   ]
  },
  {
   "cell_type": "code",
   "execution_count": 14,
   "metadata": {},
   "outputs": [
    {
     "name": "stderr",
     "output_type": "stream",
     "text": [
      "  0%|          | 0/3 [00:00<?, ?it/s]"
     ]
    },
    {
     "name": "stdout",
     "output_type": "stream",
     "text": [
      "Epoch: 0\n",
      "-------\n",
      "Train loss: 0.98248 | Train accuracy: 65.06%\n"
     ]
    },
    {
     "name": "stderr",
     "output_type": "stream",
     "text": [
      " 33%|███▎      | 1/3 [00:06<00:12,  6.36s/it]"
     ]
    },
    {
     "name": "stdout",
     "output_type": "stream",
     "text": [
      "Test loss: 0.76060 | Test accuracy: 72.80%\n",
      "\n",
      "Epoch: 1\n",
      "-------\n",
      "Train loss: 0.70374 | Train accuracy: 74.43%\n"
     ]
    },
    {
     "name": "stderr",
     "output_type": "stream",
     "text": [
      " 67%|██████▋   | 2/3 [00:13<00:06,  6.71s/it]"
     ]
    },
    {
     "name": "stdout",
     "output_type": "stream",
     "text": [
      "Test loss: 0.71959 | Test accuracy: 73.53%\n",
      "\n",
      "Epoch: 2\n",
      "-------\n",
      "Train loss: 0.67371 | Train accuracy: 75.37%\n"
     ]
    },
    {
     "name": "stderr",
     "output_type": "stream",
     "text": [
      "100%|██████████| 3/3 [00:20<00:00,  6.74s/it]"
     ]
    },
    {
     "name": "stdout",
     "output_type": "stream",
     "text": [
      "Test loss: 0.69469 | Test accuracy: 74.71%\n",
      "\n"
     ]
    },
    {
     "name": "stderr",
     "output_type": "stream",
     "text": [
      "\n"
     ]
    }
   ],
   "source": [
    "# Set the seed and start the timer\n",
    "torch.manual_seed(42)\n",
    "train_time_start_on_cpu = timer()\n",
    "\n",
    "# Set the number of epochs (we'll keep this small for faster training times)\n",
    "epochs = 3\n",
    "\n",
    "# Create training and testing loop\n",
    "for epoch in tqdm(range(epochs)):\n",
    "    print(f\"Epoch: {epoch}\\n-------\")\n",
    "    ### Training\n",
    "    train_step(model=modelV1, \n",
    "               data_loader=train_dataloader, \n",
    "               loss_fn=loss_fn, \n",
    "               optimizer=optimizer, \n",
    "               calculate_accuracy=calculate_accuracy \n",
    "               )\n",
    "\n",
    "    ### Testing\n",
    "    test_step(data_loader=test_dataloader, \n",
    "              model=modelV1, \n",
    "              loss_fn=loss_fn, \n",
    "              calculate_accuracy=calculate_accuracy\n",
    "              )"
   ]
  },
  {
   "cell_type": "markdown",
   "metadata": {},
   "source": [
    "#### 6. Creating a Convolutional Neural Network\n",
    "https://poloclub.github.io/cnn-explainer/"
   ]
  },
  {
   "cell_type": "code",
   "execution_count": null,
   "metadata": {},
   "outputs": [],
   "source": [
    "'''\n",
    "As seen above, we have created 2 models, modelV0 and modelV1. \n",
    "\n",
    "modelV0 uses strictly Linear Layers while\n",
    "modelV1 uses Linear and ReLU activation functions, Non-Linear Layers.\n",
    "\n",
    "modelV0 produced better results than modelV1 but both arent great.\n",
    "\n",
    "We will now create a model that uses Convolutional Neural Networks (CNNs) \n",
    "to see if we can get better results.\n",
    "'''\n",
    "\n",
    "class FashionMNSTModelV2(nn.Module):\n",
    "    def __init__(self, input_shape:int, hidden_units: int, output_shape:int):\n",
    "        super().__init__()\n",
    "        self.block_1 = nn.Sequential(\n",
    "            nn.Conv2d(in_channels=input_shape, \n",
    "                      out_channels=hidden_units, \n",
    "                      kernel_size=3, # how big is the square that's going over the image?\n",
    "                      stride=1, # default is 1\n",
    "                      padding=1),\n",
    "            nn.ReLU(),\n",
    "            nn.Conv2d(in_channels=hidden_units, \n",
    "                      out_channels=hidden_units,\n",
    "                      kernel_size=3,\n",
    "                      stride=1,\n",
    "                      padding=1),\n",
    "            nn.ReLU(),\n",
    "            nn.MaxPool2d(kernel_size=2,\n",
    "                         stride=2) # default stride value is same as kernel_size\n",
    "        )\n",
    "        self.block_2 = nn.Sequential(\n",
    "            nn.Conv2d(hidden_units, hidden_units, 3, padding=1),\n",
    "            nn.ReLU(),\n",
    "            nn.Conv2d(hidden_units, hidden_units, 3, padding=1),\n",
    "            nn.ReLU(),\n",
    "            nn.MaxPool2d(2)\n",
    "        )\n",
    "        self.classifier = nn.Sequential(\n",
    "            nn.Flatten(),\n",
    "            # Where did this in_features shape come from? \n",
    "            # It's because each layer of our network compresses and changes the shape of our input data.\n",
    "            nn.Linear(in_features=hidden_units*7*7, \n",
    "                      out_features=output_shape)\n",
    "        )\n",
    "    \n",
    "    def forward(self, x: torch.Tensor):\n",
    "        x = self.block_1(x)\n",
    "        # print(x.shape)\n",
    "        x = self.block_2(x)\n",
    "        # print(x.shape)\n",
    "        x = self.classifier(x)\n",
    "        # print(x.shape)\n",
    "        return x\n",
    "\n"
   ]
  },
  {
   "cell_type": "markdown",
   "metadata": {},
   "source": [
    "#### 6.1 Understanding Our Model \n",
    "Lets understand how the Convolutional Neural Network works:\n",
    "* A Convolutional Neural Network (CNN) is a type of computer program designed to recognize patterns, especially in images.\n",
    "\n",
    "We start by defining the Convolutional Layers: \n",
    "* self.conv_block1 and self.conv_block2\n",
    "* Now lets break down what is inside the Convolutional Layers:\n",
    "* Each Convolutional Layer consists of:\n",
    "* Conv2d: This is the convolutional layer that performs the convolution operation on the input image.\n",
    "\n",
    "-> What is the convolution operation?\n",
    "* The convolution operation is the process of applying a filter to an image. \n",
    "    * For example, a filter can be a 3x3 matrix that is applied to the image.\n",
    "* The filter is applied to the image by sliding it across the image and computing the \n",
    "    * dot product of the filter and the image.\n",
    "* The result of the dot product is the output of the convolution operation.\n",
    "\n",
    "-> The Conv2d layer takes the following arguments:\n",
    "* in_channels: The number of input channels to the convolutional layer.\n",
    "* out_channels: The number of output channels from the convolutional layer.\n",
    "* kernel_size: The size of the filter that is applied to the image.\n",
    "    * Choosing this hyperparameter has a massive impact on the image classification\n",
    "        * Selecting a Small Kernel Size will be able to extract larger amounts of inforation containing highly local features\n",
    "        * Selecting a Large Kernel Size extracts less information, leading to faster reduction in layer dimensions. Leads to worse performance but they are more suited to extract features that are larger\n",
    "* stride: Indicates how many pixels the kernel should be shifted over at a time.\n",
    "* padding: Necessary when the kernel extends beyond the activation map. Padding conserves data at the border of activation maps, leading to better performance\n",
    "\n",
    "* ReLU: The activation function that introduces non-linearity into the model.\n",
    "* MaxPool2d: The pooling layer that reduces the spatial dimensions of the image.\n",
    "    * The MaxPool2d layer takes the following arguments:\n",
    "        * kernel_size: The size of the pooling window.\n",
    "           * We include this as an argument to the MaxPool2d layer to specify the size of the pooling window.\n"
   ]
  },
  {
   "cell_type": "markdown",
   "metadata": {},
   "source": [
    "#### 7. Testing our CNN"
   ]
  },
  {
   "cell_type": "code",
   "execution_count": 45,
   "metadata": {},
   "outputs": [
    {
     "name": "stdout",
     "output_type": "stream",
     "text": [
      "{'Model Name: ': FashionMNSTModelV2(\n",
      "  (block_1): Sequential(\n",
      "    (0): Conv2d(1, 10, kernel_size=(3, 3), stride=(1, 1), padding=(1, 1))\n",
      "    (1): ReLU()\n",
      "    (2): Conv2d(10, 10, kernel_size=(3, 3), stride=(1, 1), padding=(1, 1))\n",
      "    (3): ReLU()\n",
      "    (4): MaxPool2d(kernel_size=2, stride=2, padding=0, dilation=1, ceil_mode=False)\n",
      "  )\n",
      "  (block_2): Sequential(\n",
      "    (0): Conv2d(10, 10, kernel_size=(3, 3), stride=(1, 1), padding=(1, 1))\n",
      "    (1): ReLU()\n",
      "    (2): Conv2d(10, 10, kernel_size=(3, 3), stride=(1, 1), padding=(1, 1))\n",
      "    (3): ReLU()\n",
      "    (4): MaxPool2d(kernel_size=2, stride=2, padding=0, dilation=1, ceil_mode=False)\n",
      "  )\n",
      "  (classifier): Sequential(\n",
      "    (0): Flatten(start_dim=1, end_dim=-1)\n",
      "    (1): Linear(in_features=490, out_features=10, bias=True)\n",
      "  )\n",
      "), 'loss': tensor(2.3047), 'accuracy': 10.0}\n"
     ]
    }
   ],
   "source": [
    "# # Create a batch of test images\n",
    "# torch_random_image = next(iter(test_dataloader))[0][0]\n",
    "modelV2 = FashionMNSTModelV2(\n",
    "    input_shape=1, # Size of the image\n",
    "    hidden_units=10, # Number of hidden units\n",
    "    output_shape=len(train_data.classes)) # Number of output units\n",
    "    \n",
    "loss_fn = nn.CrossEntropyLoss()\n",
    "optimizer = torch.optim.SGD(params=modelV2.parameters(), lr=0.01)\n",
    "\n",
    "# modelV2(torch_random_image.unsqueeze(dim=1))\n",
    "\n",
    "modelV2_results = eval_model(model=modelV2,\n",
    "    dataloader=train_dataloader,\n",
    "    loss_fn=loss_fn,\n",
    "    calculate_accuracy=calculate_accuracy)\n",
    "\n",
    "print(modelV2_results)"
   ]
  },
  {
   "cell_type": "markdown",
   "metadata": {},
   "source": [
    "#### 7.1 Training and Testing our Model\n",
    "\n",
    "Now that we have seen that our model can produce an output, it supposedly works, lets now train and test with our data"
   ]
  },
  {
   "cell_type": "code",
   "execution_count": 46,
   "metadata": {},
   "outputs": [
    {
     "name": "stderr",
     "output_type": "stream",
     "text": [
      "  0%|          | 0/10 [00:00<?, ?it/s]"
     ]
    },
    {
     "name": "stdout",
     "output_type": "stream",
     "text": [
      "Epoch: 0\n",
      "-------\n",
      "Train loss: 1.69822 | Train accuracy: 35.62%\n"
     ]
    },
    {
     "name": "stderr",
     "output_type": "stream",
     "text": [
      " 10%|█         | 1/10 [00:35<05:16, 35.20s/it]"
     ]
    },
    {
     "name": "stdout",
     "output_type": "stream",
     "text": [
      "Test loss: 0.72525 | Test accuracy: 73.10%\n",
      "\n",
      "Epoch: 1\n",
      "-------\n",
      "Train loss: 0.62323 | Train accuracy: 77.75%\n"
     ]
    },
    {
     "name": "stderr",
     "output_type": "stream",
     "text": [
      " 20%|██        | 2/10 [01:03<04:11, 31.38s/it]"
     ]
    },
    {
     "name": "stdout",
     "output_type": "stream",
     "text": [
      "Test loss: 0.54494 | Test accuracy: 79.62%\n",
      "\n",
      "Epoch: 2\n",
      "-------\n",
      "Train loss: 0.48053 | Train accuracy: 82.79%\n"
     ]
    },
    {
     "name": "stderr",
     "output_type": "stream",
     "text": [
      " 30%|███       | 3/10 [01:31<03:26, 29.48s/it]"
     ]
    },
    {
     "name": "stdout",
     "output_type": "stream",
     "text": [
      "Test loss: 0.45826 | Test accuracy: 83.99%\n",
      "\n",
      "Epoch: 3\n",
      "-------\n",
      "Train loss: 0.42857 | Train accuracy: 84.47%\n"
     ]
    },
    {
     "name": "stderr",
     "output_type": "stream",
     "text": [
      " 40%|████      | 4/10 [01:59<02:54, 29.12s/it]"
     ]
    },
    {
     "name": "stdout",
     "output_type": "stream",
     "text": [
      "Test loss: 0.42261 | Test accuracy: 85.17%\n",
      "\n",
      "Epoch: 4\n",
      "-------\n",
      "Train loss: 0.39884 | Train accuracy: 85.77%\n"
     ]
    },
    {
     "name": "stderr",
     "output_type": "stream",
     "text": [
      " 50%|█████     | 5/10 [02:28<02:24, 28.87s/it]"
     ]
    },
    {
     "name": "stdout",
     "output_type": "stream",
     "text": [
      "Test loss: 0.40662 | Test accuracy: 85.85%\n",
      "\n",
      "Epoch: 5\n",
      "-------\n",
      "Train loss: 0.37675 | Train accuracy: 86.55%\n"
     ]
    },
    {
     "name": "stderr",
     "output_type": "stream",
     "text": [
      " 60%|██████    | 6/10 [02:56<01:55, 28.83s/it]"
     ]
    },
    {
     "name": "stdout",
     "output_type": "stream",
     "text": [
      "Test loss: 0.38991 | Test accuracy: 86.17%\n",
      "\n",
      "Epoch: 6\n",
      "-------\n",
      "Train loss: 0.36046 | Train accuracy: 87.11%\n"
     ]
    },
    {
     "name": "stderr",
     "output_type": "stream",
     "text": [
      " 70%|███████   | 7/10 [03:30<01:31, 30.34s/it]"
     ]
    },
    {
     "name": "stdout",
     "output_type": "stream",
     "text": [
      "Test loss: 0.38580 | Test accuracy: 86.49%\n",
      "\n",
      "Epoch: 7\n",
      "-------\n",
      "Train loss: 0.34870 | Train accuracy: 87.46%\n"
     ]
    },
    {
     "name": "stderr",
     "output_type": "stream",
     "text": [
      " 80%|████████  | 8/10 [06:24<02:31, 76.00s/it]"
     ]
    },
    {
     "name": "stdout",
     "output_type": "stream",
     "text": [
      "Test loss: 0.36214 | Test accuracy: 87.36%\n",
      "\n",
      "Epoch: 8\n",
      "-------\n",
      "Train loss: 0.33872 | Train accuracy: 87.89%\n"
     ]
    },
    {
     "name": "stderr",
     "output_type": "stream",
     "text": [
      " 90%|█████████ | 9/10 [06:56<01:02, 62.36s/it]"
     ]
    },
    {
     "name": "stdout",
     "output_type": "stream",
     "text": [
      "Test loss: 0.35765 | Test accuracy: 87.26%\n",
      "\n",
      "Epoch: 9\n",
      "-------\n",
      "Train loss: 0.33058 | Train accuracy: 88.14%\n"
     ]
    },
    {
     "name": "stderr",
     "output_type": "stream",
     "text": [
      "100%|██████████| 10/10 [07:28<00:00, 44.87s/it]"
     ]
    },
    {
     "name": "stdout",
     "output_type": "stream",
     "text": [
      "Test loss: 0.36153 | Test accuracy: 87.01%\n",
      "\n",
      "Training Time: 448.671 seconds\n"
     ]
    },
    {
     "name": "stderr",
     "output_type": "stream",
     "text": [
      "\n"
     ]
    }
   ],
   "source": [
    "torch.manual_seed(42)\n",
    "train_time_start_on_cpu = timer()\n",
    "\n",
    "# Train and test the model\n",
    "epochs = 10\n",
    "\n",
    "for epoch in tqdm(range(epochs)):\n",
    "    print(f\"Epoch: {epoch}\\n-------\")\n",
    "\n",
    "    ''' Training Loop '''\n",
    "    train_step(model=modelV2,\n",
    "                data_loader=train_dataloader,\n",
    "                loss_fn=loss_fn,\n",
    "                optimizer=optimizer,\n",
    "                calculate_accuracy=calculate_accuracy)\n",
    "    \n",
    "    ''' Testing Loop '''\n",
    "    test_step(data_loader=test_dataloader,\n",
    "                model=modelV2,\n",
    "                loss_fn=loss_fn,\n",
    "                calculate_accuracy=calculate_accuracy)\n",
    "\n",
    "train_time_end_on_cpu = timer()\n",
    "total_train_time_modelV2 = print_train_time(start=train_time_start_on_cpu, \n",
    "                                           end=train_time_end_on_cpu)"
   ]
  },
  {
   "cell_type": "markdown",
   "metadata": {},
   "source": [
    "#### 8. Make and Evaluate Random Predictions with our Best Model"
   ]
  },
  {
   "cell_type": "code",
   "execution_count": 83,
   "metadata": {},
   "outputs": [
    {
     "name": "stdout",
     "output_type": "stream",
     "text": [
      "torch.Size([1, 28, 28])\n"
     ]
    }
   ],
   "source": [
    "''' Lets make a function to make predictions for the model '''\n",
    "\n",
    "def make_predictions(model:torch.nn.Module, data: list):\n",
    "    pred_probs = []\n",
    "\n",
    "    model.eval()\n",
    "    with torch.inference_mode():\n",
    "        for sample in data:\n",
    "            # Prepare the sample (Add a Batch Dimension and pass it to the \n",
    "            # target model)\n",
    "            sample = torch.unsqueeze(sample, dim=0)\n",
    "\n",
    "            # Forward Pass for the Model (Model outputs raw logits)\n",
    "            pred_logit = model(sample)\n",
    "\n",
    "            # Get Prediction Probability (Logits -> Probabilities)\n",
    "            pred_prob = torch.softmax(pred_logit.squeeze(), dim=0)\n",
    "\n",
    "            # Append the prediction probabilities to the list\n",
    "            pred_probs.append(pred_prob)\n",
    "\n",
    "    return torch.stack(pred_probs)\n",
    "\n",
    "import random\n",
    "# random.seed(42)\n",
    "\n",
    "test_samples = []\n",
    "test_labels = []\n",
    "\n",
    "for sample, label in random.sample(list(test_data), # Get a random sample from the test dataset\n",
    " k=9): # Number of samples to get\n",
    "    test_samples.append(sample)\n",
    "    test_labels.append(label)\n",
    "\n",
    "# view the first sample shape\n",
    "print(test_samples[0].shape)"
   ]
  },
  {
   "cell_type": "code",
   "execution_count": 88,
   "metadata": {},
   "outputs": [
    {
     "name": "stdout",
     "output_type": "stream",
     "text": [
      "tensor([[1.0145e-05, 2.1127e-07, 1.7764e-06, 4.5320e-05, 1.4814e-06, 9.5819e-02,\n",
      "         1.8635e-05, 8.4056e-01, 1.1603e-02, 5.1938e-02],\n",
      "        [8.7279e-01, 1.1669e-03, 6.1609e-04, 1.0838e-02, 3.9640e-05, 7.9347e-07,\n",
      "         1.1430e-01, 5.3431e-06, 2.3957e-04, 2.9576e-08]])\n"
     ]
    },
    {
     "data": {
      "image/png": "[encoded data removed]",
      "text/plain": [
       "<Figure size 900x900 with 9 Axes>"
      ]
     },
     "metadata": {},
     "output_type": "display_data"
    }
   ],
   "source": [
    "# Make Predictions\n",
    "pred_probs = make_predictions(model=modelV2, data=test_samples)\n",
    "\n",
    "# view the first two prediction probabilities\n",
    "print(pred_probs[:2])\n",
    "\n",
    "# convert the prediction probabilities to predicted labels\n",
    "pred_classes = pred_probs.argmax(dim=1)\n",
    "\n",
    "# Plot the predictions\n",
    "plt.figure(figsize=(9, 9))\n",
    "nrows = ncols = 3\n",
    "for i, sample in enumerate(test_samples):\n",
    "    \n",
    "    plt.subplot(nrows, ncols, i+1)\n",
    "    plt.imshow(sample.squeeze(), cmap='gray')\n",
    "\n",
    "    # Lets change the titles to be green if the predicted == actual, \n",
    "    # and red if not\n",
    "    if test_labels[i] == pred_classes[i]:\n",
    "        plt.title(f\"Actual: {train_data.classes[test_labels[i]]}\\nPredicted: {train_data.classes[pred_classes[i]]}\", \n",
    "                  color='green')\n",
    "    else:\n",
    "        plt.title(f\"Actual: {train_data.classes[test_labels[i]]}\\nPredicted: {train_data.classes[pred_classes[i]]}\", \n",
    "                  color='red')\n",
    "    plt.axis('off')"
   ]
  },
  {
   "cell_type": "markdown",
   "metadata": {},
   "source": [
    "#### 9. Making a Confusion Matrix\n",
    "modelV2 is nearly at 100% accurate but it still gets a few guesses wrong. Enter the Confusion Matrix\n",
    "\n",
    "**Confusion Matrix**: a table that is used to define the performance of a classification algorithm\n",
    "\n",
    "Steps for Further Evaluation:\n",
    "1. Make Predictions with our trained model on the test dataset\n",
    "2. Make a Confusion Matrix\n",
    "3. Plot Confusion Matrix using `mixtend.plotting.plot_confusion_matrix()`"
   ]
  },
  {
   "cell_type": "code",
   "execution_count": 57,
   "metadata": {},
   "outputs": [
    {
     "name": "stderr",
     "output_type": "stream",
     "text": [
      "Making Predictions: 100%|██████████| 313/313 [00:02<00:00, 121.13it/s]\n"
     ]
    },
    {
     "data": {
      "text/plain": [
       "tensor([9, 2, 1,  ..., 8, 3, 8])"
      ]
     },
     "execution_count": 57,
     "metadata": {},
     "output_type": "execute_result"
    }
   ],
   "source": [
    "# Make Predictions\n",
    "y_preds = []\n",
    "modelV2.eval()\n",
    "with torch.inference_mode():\n",
    "    for X, y in tqdm(test_dataloader, desc=\"Making Predictions\"):\n",
    "        # 1. Forward pass\n",
    "        y_logits = modelV2(X)\n",
    "        y_pred = torch.softmax(y_logits.squeeze(), dim=0).argmax(dim=1)\n",
    "        y_preds.append(y_pred)\n",
    "\n",
    "# Convert the predictions to a tensor\n",
    "y_pred_tensor = torch.cat(y_preds)\n",
    "y_pred_tensor"
   ]
  },
  {
   "cell_type": "code",
   "execution_count": 76,
   "metadata": {},
   "outputs": [
    {
     "data": {
      "image/png": "[encoded data removed]",
      "text/plain": [
       "<Figure size 1000x700 with 1 Axes>"
      ]
     },
     "metadata": {},
     "output_type": "display_data"
    }
   ],
   "source": [
    "# Plot the confusion matrix\n",
    "import torchmetrics\n",
    "from torchmetrics import ConfusionMatrix\n",
    "\n",
    "import mlxtend\n",
    "from mlxtend.plotting import plot_confusion_matrix\n",
    "\n",
    "class_names = train_data.classes\n",
    "\n",
    "# 2. Set up Confusion Matrix\n",
    "confusionMatrix = ConfusionMatrix(num_classes=len(class_names), task='multiclass')\n",
    "confusionMatrix_Tensor = confusionMatrix(preds=y_pred_tensor, target=test_data.targets)\n",
    "\n",
    "fig, ax = plot_confusion_matrix(\n",
    "    conf_mat=confusionMatrix_Tensor.numpy(), \n",
    "    class_names=class_names, \n",
    "    figsize=(10, 7)\n",
    ")"
   ]
  }
 ],
 "metadata": {
  "kernelspec": {
   "display_name": ".venv",
   "language": "python",
   "name": "python3"
  },
  "language_info": {
   "codemirror_mode": {
    "name": "ipython",
    "version": 3
   },
   "file_extension": ".py",
   "mimetype": "text/x-python",
   "name": "python",
   "nbconvert_exporter": "python",
   "pygments_lexer": "ipython3",
   "version": "3.12.6"
  }
 },
 "nbformat": 4,
 "nbformat_minor": 2
}
