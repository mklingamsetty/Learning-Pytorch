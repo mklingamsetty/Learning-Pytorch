{
 "cells": [
  {
   "cell_type": "markdown",
   "metadata": {},
   "source": [
    "## 01. PyTorch Workflow Fundamentals\n",
    "The essence of machine learning and deep learning is to take some data from the past, build an algorithm (like a neural network) to discover patterns in it and use the discovered patterns to predict the future\n",
    "\n",
    "Steps:\n",
    "1. Getting the data ready\n",
    "2. Building a model\n",
    "3. Fitting the model to data (training)\n",
    "4. Making predictions and evaluating a model (inferencing)\n",
    "5. Saving and loading the model\n",
    "6. Putting it all together"
   ]
  },
  {
   "cell_type": "markdown",
   "metadata": {},
   "source": [
    "#### 1. Data (Preparing and Loading)"
   ]
  },
  {
   "cell_type": "code",
   "execution_count": 471,
   "metadata": {},
   "outputs": [
    {
     "data": {
      "text/plain": [
       "'2.5.1+cpu'"
      ]
     },
     "execution_count": 471,
     "metadata": {},
     "output_type": "execute_result"
    }
   ],
   "source": [
    "import torch\n",
    "from torch import nn \n",
    "# nn contains all of PyTorch's building blocks for neural networks\n",
    "\n",
    "import matplotlib.pyplot as plt\n",
    "\n",
    "# Check PyTorch version\n",
    "torch.__version__"
   ]
  },
  {
   "cell_type": "code",
   "execution_count": 472,
   "metadata": {},
   "outputs": [
    {
     "data": {
      "text/plain": [
       "(tensor([[0.0000],\n",
       "         [0.0200],\n",
       "         [0.0400],\n",
       "         [0.0600],\n",
       "         [0.0800],\n",
       "         [0.1000],\n",
       "         [0.1200],\n",
       "         [0.1400],\n",
       "         [0.1600],\n",
       "         [0.1800]]),\n",
       " tensor([[0.3000],\n",
       "         [0.3140],\n",
       "         [0.3280],\n",
       "         [0.3420],\n",
       "         [0.3560],\n",
       "         [0.3700],\n",
       "         [0.3840],\n",
       "         [0.3980],\n",
       "         [0.4120],\n",
       "         [0.4260]]))"
      ]
     },
     "execution_count": 472,
     "metadata": {},
     "output_type": "execute_result"
    }
   ],
   "source": [
    "'''\n",
    "For the purpose of this example, we'll create a simple dataset with our made up data.\n",
    "\n",
    "We'll use linear regression to create the data with known parameters \n",
    "(things that can be learned by a model) and then we'll use PyTorch to see if we \n",
    "can build model to estimate these parameters using gradient descent.\n",
    "\n",
    "'''\n",
    "\n",
    "# Create known parameters\n",
    "weight = 0.7\n",
    "bias = 0.3\n",
    "\n",
    "# Create a dataset\n",
    "start = 0\n",
    "end = 1\n",
    "step = 0.02\n",
    "x = torch.arange(start, end, step).unsqueeze(dim=1)\n",
    "# unsqueeze adds a dimension to the tensor by changing the shape from (50,) to (50, 1)\n",
    "# We add this dimension because y = (weight * x) + bias is expecting a 2D tensor\n",
    "y = (weight * x) + bias\n",
    "\n",
    "# Below code will show the first 10 samples of the dataset for both x and y\n",
    "# English translation is: For the first 10 rows, show me all the columns\n",
    "x[:10], y[:10]"
   ]
  },
  {
   "cell_type": "code",
   "execution_count": 473,
   "metadata": {},
   "outputs": [
    {
     "data": {
      "text/plain": [
       "(40, 40, 10, 10)"
      ]
     },
     "execution_count": 473,
     "metadata": {},
     "output_type": "execute_result"
    }
   ],
   "source": [
    "'''\n",
    "Split data into training and test sets\n",
    "--> We'll use 80% of the data for training and 20% for testing\n",
    "'''\n",
    "# Create train/test split\n",
    "train_split = int(0.8 * len(x)) # 80% of data used for training set, 20% for testing \n",
    "x_train, y_train = x[:train_split], y[:train_split]\n",
    "x_test, y_test = x[train_split:], y[train_split:]\n",
    "\n",
    "\n",
    "''' Below will be our function for plotting the data '''\n",
    "\n",
    "def plot_predictions(train_data=x_train, train_labels=y_train, test_data=x_test, test_labels=y_test, predictions=None):\n",
    "    plt.figure(figsize=(10, 7))\n",
    "    plt.scatter(train_data, train_labels, c=\"b\", label=\"Training data\")\n",
    "    plt.scatter(test_data, test_labels, c=\"g\", label=\"Testing data\")\n",
    "    \n",
    "    if predictions is not None:\n",
    "        plt.scatter(test_data, predictions, label=\"Predictions\", color=\"red\")\n",
    "    plt.legend()\n",
    "    plt.show()\n",
    "\n",
    "len(x_train), len(y_train), len(x_test), len(y_test)\n"
   ]
  },
  {
   "cell_type": "code",
   "execution_count": 474,
   "metadata": {},
   "outputs": [
    {
     "data": {
      "image/png": "[encoded data removed]",
      "text/plain": [
       "<Figure size 1000x700 with 1 Axes>"
      ]
     },
     "metadata": {},
     "output_type": "display_data"
    },
    {
     "data": {
      "text/plain": [
       "'\\nWe were able to plot our data through a scatter plot\\nNow we need to make our model\\n'"
      ]
     },
     "execution_count": 474,
     "metadata": {},
     "output_type": "execute_result"
    }
   ],
   "source": [
    "plot_predictions()\n",
    "'''\n",
    "We were able to plot our data through a scatter plot\n",
    "Now we need to make our model\n",
    "'''"
   ]
  },
  {
   "cell_type": "markdown",
   "metadata": {},
   "source": [
    "#### 2. Build Model"
   ]
  },
  {
   "cell_type": "code",
   "execution_count": 475,
   "metadata": {},
   "outputs": [],
   "source": [
    "'''\n",
    "Building our first model through Linear Regression. We will represent our model using y = mx + b.\n",
    "'''\n",
    "class LinearRegression(nn.Module): # Inherits from nn.Module (Neural Network Module)\n",
    "    def __init__(self):\n",
    "        super().__init__()\n",
    "        self.weight = nn.Parameter(torch.randn(1,                   # Start with random values and try to adjust it to the ideal weight\n",
    "                                                requires_grad=True, # If the Parameter requires Gradient\n",
    "                                                dtype=torch.float)) # float is the default data type\n",
    "                                                \n",
    "        self.bias = nn.Parameter(torch.randn(1, \n",
    "                                             requires_grad=True, \n",
    "                                             dtype=torch.float))\n",
    "    '''\n",
    "        What does our Model do:\n",
    "        \n",
    "            1. Start with random values for weight & bias\n",
    "            2. Look at training data and adjust the random values to better represent (or get closer to)\n",
    "            the ideal values (the weight & bias values we used to create the data)\n",
    "        \n",
    "        How does it do so?\n",
    "        \n",
    "            -> 2 Algorithms\n",
    "                1. Gradient Descent (why we set requires_grad=True)\n",
    "                2. Backpropagation\n",
    "                \n",
    "        Any subclass of the nn module must override the forward method \n",
    "            - defines the forward computation of the model           \n",
    "    '''\n",
    "    def forward(self, x: torch.Tensor) -> torch.Tensor: # Returns a Tensor datatype\n",
    "        return self.weight * x + self.bias \n",
    "        # This is our Linear Regression Formula\n",
    "        "
   ]
  },
  {
   "cell_type": "markdown",
   "metadata": {},
   "source": [
    "#### 2.1 PyTorch Model Building Essentials\n",
    "* `torch.nn` contains all of the buildings for computational graphs (neural networks)\n",
    "* `torch.nn.Parameter` contains what parameters our model must try and learn, often a PyTorch layer from `torch.nn` will set these for us\n",
    "* `torch.nn.Module` The base class for all Neural Network Modules, if you make a subclass, override forward\n",
    "* `torch.optim` This is where the optimizers in PyTorch are, will help with Gradient Descent\n",
    "* `def forward()` This method defines what is performed in the forward computation"
   ]
  },
  {
   "cell_type": "markdown",
   "metadata": {},
   "source": [
    "#### 2.2 PyTorch Workflow Essentials\n",
    "1. Get Data Ready\n",
    "    * `torchvision.transforms`\n",
    "    * `torch.utils.data.Dataset`\n",
    "    * `torch.utils.data.DataLoader`\n",
    "2. Build or Pick a Model\n",
    "    * `torch.nn`\n",
    "    * `torch.nn.Module`\n",
    "    * `torchvision.models`\n",
    "    * `torch.optim`\n",
    "3. Evaluate the Model\n",
    "    * `torchmetrics`\n",
    "4. Improve through Experimentation\n",
    "    * `torch.utils.tensorboard`"
   ]
  },
  {
   "cell_type": "code",
   "execution_count": 476,
   "metadata": {},
   "outputs": [
    {
     "data": {
      "text/plain": [
       "[Parameter containing:\n",
       " tensor([0.3367], requires_grad=True),\n",
       " Parameter containing:\n",
       " tensor([0.1288], requires_grad=True)]"
      ]
     },
     "execution_count": 476,
     "metadata": {},
     "output_type": "execute_result"
    }
   ],
   "source": [
    "'''\n",
    "Now that we have our model, lets look inside of the model.\n",
    "We can do this by using .parameters() method\n",
    "'''\n",
    "\n",
    "# Create a random seed for reproducibility\n",
    "torch.manual_seed(42)\n",
    "\n",
    "# Create an instance of the model we just created\n",
    "model_0 = LinearRegression()\n",
    "\n",
    "# Check out the parameters of the model\n",
    "list(model_0.parameters())"
   ]
  },
  {
   "cell_type": "code",
   "execution_count": 477,
   "metadata": {},
   "outputs": [
    {
     "data": {
      "text/plain": [
       "OrderedDict([('weight', tensor([0.3367])), ('bias', tensor([0.1288]))])"
      ]
     },
     "execution_count": 477,
     "metadata": {},
     "output_type": "execute_result"
    }
   ],
   "source": [
    "# List the named parameters\n",
    "model_0.state_dict()"
   ]
  },
  {
   "cell_type": "code",
   "execution_count": 478,
   "metadata": {},
   "outputs": [
    {
     "data": {
      "image/png": "[encoded data removed]",
      "text/plain": [
       "<Figure size 1000x700 with 1 Axes>"
      ]
     },
     "metadata": {},
     "output_type": "display_data"
    },
    {
     "name": "stdout",
     "output_type": "stream",
     "text": [
      "y-test results:  tensor([[0.8600],\n",
      "        [0.8740],\n",
      "        [0.8880],\n",
      "        [0.9020],\n",
      "        [0.9160],\n",
      "        [0.9300],\n",
      "        [0.9440],\n",
      "        [0.9580],\n",
      "        [0.9720],\n",
      "        [0.9860]])\n",
      "\n",
      "y-prediction results  tensor([[0.3982],\n",
      "        [0.4049],\n",
      "        [0.4116],\n",
      "        [0.4184],\n",
      "        [0.4251],\n",
      "        [0.4318],\n",
      "        [0.4386],\n",
      "        [0.4453],\n",
      "        [0.4520],\n",
      "        [0.4588]])\n"
     ]
    }
   ],
   "source": [
    "''' \n",
    "Our parameters for weight and bias inside the model are obviously not the same as the ones we used to create the data.\n",
    "We will be making predictions using torch.inference_mode() to see how well it predicts 'y_test' based on 'x_test'.\n",
    "\n",
    "When we pass data through our model, it will run it through our forward method.\n",
    "'''\n",
    "\n",
    "with torch.inference_mode():\n",
    "    ''' \n",
    "    Inference Mode turns off the gradient calculations \n",
    "        - The benefit of this is PyTorch will not be keeping track of excess information\n",
    "          providing faster calculations\n",
    "    '''\n",
    "    y_preds = model_0(x_test)\n",
    "\n",
    "# Another way of calculating the predictions using gradient calculations\n",
    "# y_preds = model_0(x_test)\n",
    "\n",
    "'''\n",
    "Remember, the goal of making a model is to train it, an ideal model is to have our 'y_preds' as close to 'y_test' as possible.\n",
    "'''\n",
    "\n",
    "plot_predictions(predictions=y_preds)\n",
    "print(\"y-test results: \",y_test[:10])\n",
    "print(\"\\ny-prediction results \", y_preds[:10])"
   ]
  },
  {
   "cell_type": "markdown",
   "metadata": {},
   "source": [
    "#### 3. Training the Model\n",
    "The idea is to traing our model to move from unknown random paramters to known parameters"
   ]
  },
  {
   "cell_type": "code",
   "execution_count": 479,
   "metadata": {},
   "outputs": [
    {
     "data": {
      "text/plain": [
       "'\\n- Revisit that the randomly generated parameters from the model are:\\n    weight = 0.3367\\n    bias = 0.1288\\n- The learning rate is how much the model will adjust the parameters by\\n- In this case, our learning rate is set to 0.01 so the values will change by 0.01\\n'"
      ]
     },
     "execution_count": 479,
     "metadata": {},
     "output_type": "execute_result"
    }
   ],
   "source": [
    "'''\n",
    "- Things we need to train:\n",
    "    1. Loss Function : measures how WRONG our model's predictions are to the actual values.\n",
    "    2. Optimizer : takes into account the loss of the model and ADJUSTS the model's parameters (weight & bias) to improve the loss function.\n",
    "    -- Specifically for PyTorch, we need:\n",
    "        - A training loop\n",
    "        - A testing loop\n",
    "        \n",
    "- Thankfully, PyTorch has many built-in loss/cost and optimizer functions.\n",
    "\n",
    "- Usually loss functions calculate the Mean Absolute Error (MAE) of all y_preds with y_test\n",
    "    -> Equation: MAE = | y_pred[i] - y_test[i] | \n",
    "    -> Smaller the value the better the model\n",
    "    -> We are able to write this out in PyTorch using torch.nn.L1Loss()\n",
    "       -> or MAE_loss = torch.mean(torch.abs(y_preds - y_test))\n",
    "'''\n",
    "\n",
    "# Setup a Loss Function\n",
    "loss_fn = nn.L1Loss()\n",
    "\n",
    "# Setup an Optimizer\n",
    "# SGD = Stochastic Gradient Descent\n",
    "optimizer = torch.optim.SGD(params=model_0.parameters(),  # Parameters of the model\n",
    "                            lr=0.01)                      # lr = learning rate = important hyperparameter you can set\n",
    "'''\n",
    "- Revisit that the randomly generated parameters from the model are:\n",
    "    weight = 0.3367\n",
    "    bias = 0.1288\n",
    "- The learning rate is how much the model will adjust the parameters by\n",
    "- In this case, our learning rate is set to 0.01 so the values will change by 0.01\n",
    "'''"
   ]
  },
  {
   "cell_type": "markdown",
   "metadata": {},
   "source": [
    "#### 3.1 Building a Training and Testing Loop\n",
    "What we need in a training loop:\n",
    "1. Loop through the data\n",
    "2. Forward Pass (this involves data moving through our model's `forward()`) to make predictions\n",
    "3. Calculate the loss (compare forward pass predictions to ground truth labels)\n",
    "4. Optimize zero gradient\n",
    "5. Loss backward - moves backward through the network to calculate the gradients of each of the parameters of the model with respect to the loss (**backpropagation**)\n",
    "6. Optimizer Step - use optimizer to adjust our model's parameters to try and improve the loss (**gradient descent**)"
   ]
  },
  {
   "cell_type": "code",
   "execution_count": 480,
   "metadata": {},
   "outputs": [
    {
     "name": "stdout",
     "output_type": "stream",
     "text": [
      "Epoch 0 | Loss: 0.31288138031959534 | Testing Loss: 0.48106518387794495\n",
      "Epoch 10 | Loss: 0.1976713240146637 | Testing Loss: 0.3463551998138428\n",
      "Epoch 20 | Loss: 0.08908725529909134 | Testing Loss: 0.21729660034179688\n",
      "Epoch 30 | Loss: 0.053148526698350906 | Testing Loss: 0.14464017748832703\n",
      "Epoch 40 | Loss: 0.04543796554207802 | Testing Loss: 0.11360953003168106\n",
      "Epoch 50 | Loss: 0.04167863354086876 | Testing Loss: 0.09919948130846024\n",
      "Epoch 60 | Loss: 0.03818932920694351 | Testing Loss: 0.08886633068323135\n",
      "Epoch 70 | Loss: 0.03476089984178543 | Testing Loss: 0.0805937647819519\n",
      "Epoch 80 | Loss: 0.03132382780313492 | Testing Loss: 0.07232122868299484\n",
      "Epoch 90 | Loss: 0.02788739837706089 | Testing Loss: 0.06473556160926819\n",
      "Epoch 100 | Loss: 0.024458957836031914 | Testing Loss: 0.05646304413676262\n",
      "Epoch 110 | Loss: 0.021020207554101944 | Testing Loss: 0.04819049686193466\n",
      "Epoch 120 | Loss: 0.01758546568453312 | Testing Loss: 0.04060482233762741\n",
      "Epoch 130 | Loss: 0.014155393466353416 | Testing Loss: 0.03233227878808975\n",
      "Epoch 140 | Loss: 0.010716589167714119 | Testing Loss: 0.024059748277068138\n",
      "Epoch 150 | Loss: 0.0072835334576666355 | Testing Loss: 0.016474086791276932\n",
      "Epoch 160 | Loss: 0.0038517764769494534 | Testing Loss: 0.008201557211577892\n",
      "Epoch 170 | Loss: 0.008932482451200485 | Testing Loss: 0.005023092031478882\n",
      "Epoch 180 | Loss: 0.008932482451200485 | Testing Loss: 0.005023092031478882\n",
      "Epoch 190 | Loss: 0.008932482451200485 | Testing Loss: 0.005023092031478882\n",
      "Epoch 200 | Loss: 0.008932482451200485 | Testing Loss: 0.005023092031478882\n",
      "Epoch 210 | Loss: 0.008932482451200485 | Testing Loss: 0.005023092031478882\n",
      "Epoch 220 | Loss: 0.008932482451200485 | Testing Loss: 0.005023092031478882\n",
      "Epoch 230 | Loss: 0.008932482451200485 | Testing Loss: 0.005023092031478882\n",
      "Epoch 240 | Loss: 0.008932482451200485 | Testing Loss: 0.005023092031478882\n",
      "Epoch 250 | Loss: 0.008932482451200485 | Testing Loss: 0.005023092031478882\n",
      "Epoch 260 | Loss: 0.008932482451200485 | Testing Loss: 0.005023092031478882\n",
      "Epoch 270 | Loss: 0.008932482451200485 | Testing Loss: 0.005023092031478882\n",
      "Epoch 280 | Loss: 0.008932482451200485 | Testing Loss: 0.005023092031478882\n",
      "Epoch 290 | Loss: 0.008932482451200485 | Testing Loss: 0.005023092031478882\n",
      "Epoch 300 | Loss: 0.008932482451200485 | Testing Loss: 0.005023092031478882\n",
      "Epoch 310 | Loss: 0.008932482451200485 | Testing Loss: 0.005023092031478882\n",
      "Epoch 320 | Loss: 0.008932482451200485 | Testing Loss: 0.005023092031478882\n",
      "Epoch 330 | Loss: 0.008932482451200485 | Testing Loss: 0.005023092031478882\n",
      "Epoch 340 | Loss: 0.008932482451200485 | Testing Loss: 0.005023092031478882\n",
      "Epoch 350 | Loss: 0.008932482451200485 | Testing Loss: 0.005023092031478882\n",
      "Epoch 360 | Loss: 0.008932482451200485 | Testing Loss: 0.005023092031478882\n",
      "Epoch 370 | Loss: 0.008932482451200485 | Testing Loss: 0.005023092031478882\n",
      "Epoch 380 | Loss: 0.008932482451200485 | Testing Loss: 0.005023092031478882\n",
      "Epoch 390 | Loss: 0.008932482451200485 | Testing Loss: 0.005023092031478882\n",
      "Epoch 400 | Loss: 0.008932482451200485 | Testing Loss: 0.005023092031478882\n",
      "Epoch 410 | Loss: 0.008932482451200485 | Testing Loss: 0.005023092031478882\n",
      "Epoch 420 | Loss: 0.008932482451200485 | Testing Loss: 0.005023092031478882\n",
      "Epoch 430 | Loss: 0.008932482451200485 | Testing Loss: 0.005023092031478882\n",
      "Epoch 440 | Loss: 0.008932482451200485 | Testing Loss: 0.005023092031478882\n",
      "Epoch 450 | Loss: 0.008932482451200485 | Testing Loss: 0.005023092031478882\n",
      "Epoch 460 | Loss: 0.008932482451200485 | Testing Loss: 0.005023092031478882\n",
      "Epoch 470 | Loss: 0.008932482451200485 | Testing Loss: 0.005023092031478882\n",
      "Epoch 480 | Loss: 0.008932482451200485 | Testing Loss: 0.005023092031478882\n",
      "Epoch 490 | Loss: 0.008932482451200485 | Testing Loss: 0.005023092031478882\n",
      "Epoch 500 | Loss: 0.008932482451200485 | Testing Loss: 0.005023092031478882\n",
      "Epoch 510 | Loss: 0.008932482451200485 | Testing Loss: 0.005023092031478882\n",
      "Epoch 520 | Loss: 0.008932482451200485 | Testing Loss: 0.005023092031478882\n",
      "Epoch 530 | Loss: 0.008932482451200485 | Testing Loss: 0.005023092031478882\n",
      "Epoch 540 | Loss: 0.008932482451200485 | Testing Loss: 0.005023092031478882\n",
      "Epoch 550 | Loss: 0.008932482451200485 | Testing Loss: 0.005023092031478882\n",
      "Epoch 560 | Loss: 0.008932482451200485 | Testing Loss: 0.005023092031478882\n",
      "Epoch 570 | Loss: 0.008932482451200485 | Testing Loss: 0.005023092031478882\n",
      "Epoch 580 | Loss: 0.008932482451200485 | Testing Loss: 0.005023092031478882\n",
      "Epoch 590 | Loss: 0.008932482451200485 | Testing Loss: 0.005023092031478882\n",
      "Epoch 600 | Loss: 0.008932482451200485 | Testing Loss: 0.005023092031478882\n",
      "Epoch 610 | Loss: 0.008932482451200485 | Testing Loss: 0.005023092031478882\n",
      "Epoch 620 | Loss: 0.008932482451200485 | Testing Loss: 0.005023092031478882\n",
      "Epoch 630 | Loss: 0.008932482451200485 | Testing Loss: 0.005023092031478882\n",
      "Epoch 640 | Loss: 0.008932482451200485 | Testing Loss: 0.005023092031478882\n",
      "Epoch 650 | Loss: 0.008932482451200485 | Testing Loss: 0.005023092031478882\n",
      "Epoch 660 | Loss: 0.008932482451200485 | Testing Loss: 0.005023092031478882\n",
      "Epoch 670 | Loss: 0.008932482451200485 | Testing Loss: 0.005023092031478882\n",
      "Epoch 680 | Loss: 0.008932482451200485 | Testing Loss: 0.005023092031478882\n",
      "Epoch 690 | Loss: 0.008932482451200485 | Testing Loss: 0.005023092031478882\n",
      "Epoch 700 | Loss: 0.008932482451200485 | Testing Loss: 0.005023092031478882\n",
      "Epoch 710 | Loss: 0.008932482451200485 | Testing Loss: 0.005023092031478882\n",
      "Epoch 720 | Loss: 0.008932482451200485 | Testing Loss: 0.005023092031478882\n",
      "Epoch 730 | Loss: 0.008932482451200485 | Testing Loss: 0.005023092031478882\n",
      "Epoch 740 | Loss: 0.008932482451200485 | Testing Loss: 0.005023092031478882\n",
      "Epoch 750 | Loss: 0.008932482451200485 | Testing Loss: 0.005023092031478882\n",
      "Epoch 760 | Loss: 0.008932482451200485 | Testing Loss: 0.005023092031478882\n",
      "Epoch 770 | Loss: 0.008932482451200485 | Testing Loss: 0.005023092031478882\n",
      "Epoch 780 | Loss: 0.008932482451200485 | Testing Loss: 0.005023092031478882\n",
      "Epoch 790 | Loss: 0.008932482451200485 | Testing Loss: 0.005023092031478882\n",
      "Epoch 800 | Loss: 0.008932482451200485 | Testing Loss: 0.005023092031478882\n",
      "Epoch 810 | Loss: 0.008932482451200485 | Testing Loss: 0.005023092031478882\n",
      "Epoch 820 | Loss: 0.008932482451200485 | Testing Loss: 0.005023092031478882\n",
      "Epoch 830 | Loss: 0.008932482451200485 | Testing Loss: 0.005023092031478882\n",
      "Epoch 840 | Loss: 0.008932482451200485 | Testing Loss: 0.005023092031478882\n",
      "Epoch 850 | Loss: 0.008932482451200485 | Testing Loss: 0.005023092031478882\n",
      "Epoch 860 | Loss: 0.008932482451200485 | Testing Loss: 0.005023092031478882\n",
      "Epoch 870 | Loss: 0.008932482451200485 | Testing Loss: 0.005023092031478882\n",
      "Epoch 880 | Loss: 0.008932482451200485 | Testing Loss: 0.005023092031478882\n",
      "Epoch 890 | Loss: 0.008932482451200485 | Testing Loss: 0.005023092031478882\n",
      "Epoch 900 | Loss: 0.008932482451200485 | Testing Loss: 0.005023092031478882\n",
      "Epoch 910 | Loss: 0.008932482451200485 | Testing Loss: 0.005023092031478882\n",
      "Epoch 920 | Loss: 0.008932482451200485 | Testing Loss: 0.005023092031478882\n",
      "Epoch 930 | Loss: 0.008932482451200485 | Testing Loss: 0.005023092031478882\n",
      "Epoch 940 | Loss: 0.008932482451200485 | Testing Loss: 0.005023092031478882\n",
      "Epoch 950 | Loss: 0.008932482451200485 | Testing Loss: 0.005023092031478882\n",
      "Epoch 960 | Loss: 0.008932482451200485 | Testing Loss: 0.005023092031478882\n",
      "Epoch 970 | Loss: 0.008932482451200485 | Testing Loss: 0.005023092031478882\n",
      "Epoch 980 | Loss: 0.008932482451200485 | Testing Loss: 0.005023092031478882\n",
      "Epoch 990 | Loss: 0.008932482451200485 | Testing Loss: 0.005023092031478882\n"
     ]
    }
   ],
   "source": [
    "# An epoch is one loop through the data...\n",
    "epochs = 100\n",
    "''' --------------------------------- Training Loop --------------------------------- '''\n",
    "# 1. Loop through the data\n",
    "for epoch in range(epochs):\n",
    "    \n",
    "    # Set the model to training mode\n",
    "    model_0.train() # train mode in PyTorch sets all parameters the use gradients to True\n",
    "    \n",
    "    # 2. Forward pass\n",
    "    y_pred = model_0(x_train)\n",
    "    \n",
    "    # 3. Calculate loss\n",
    "    loss = loss_fn(y_pred, y_train)\n",
    "    # print(f\"Loss: {loss.item()}\")\n",
    "    \n",
    "    # 4. Optimizer zero gradients\n",
    "    optimizer.zero_grad()\n",
    "    \n",
    "    # 5. Backward pass (Backpropagation)\n",
    "    loss.backward()\n",
    "    \n",
    "    # 6. Optimizer step (Gradient Descent)\n",
    "    optimizer.step() # by default, the optimizer changes will \n",
    "                     # accumulate through the loop, so we have \n",
    "                     # to zero them above in step 4 for the next iteration\n",
    "                     \n",
    "    ''' -------------------------------- Testing Loop -------------------------------- '''        \n",
    "    model_0.eval() # turns off gradient calculations\n",
    "    \n",
    "    with torch.inference_mode():\n",
    "    # with torch.no_grad(): # equivalent to torch.inference_mode()\n",
    "        # 1. Forward pass        \n",
    "        test_preds = model_0(x_test)\n",
    "\n",
    "        # 2. Calculate loss\n",
    "        test_loss = loss_fn(test_preds, y_test)\n",
    "    if epoch % 10 == 0:\n",
    "        print( f\"Epoch {epoch} | Loss: {loss} | Testing Loss: {test_loss}\")\n",
    "    \n",
    "# print(\"Weight: \", weight, \" | Bias: \", bias)\n",
    "# print(model_0.state_dict())"
   ]
  },
  {
   "cell_type": "code",
   "execution_count": 481,
   "metadata": {},
   "outputs": [
    {
     "data": {
      "image/png": "[encoded data removed]",
      "text/plain": [
       "<Figure size 1000x700 with 1 Axes>"
      ]
     },
     "metadata": {},
     "output_type": "display_data"
    }
   ],
   "source": [
    "plot_predictions(predictions=test_preds)"
   ]
  }
 ],
 "metadata": {
  "kernelspec": {
   "display_name": ".venv",
   "language": "python",
   "name": "python3"
  },
  "language_info": {
   "codemirror_mode": {
    "name": "ipython",
    "version": 3
   },
   "file_extension": ".py",
   "mimetype": "text/x-python",
   "name": "python",
   "nbconvert_exporter": "python",
   "pygments_lexer": "ipython3",
   "version": "3.10.6"
  }
 },
 "nbformat": 4,
 "nbformat_minor": 2
}
